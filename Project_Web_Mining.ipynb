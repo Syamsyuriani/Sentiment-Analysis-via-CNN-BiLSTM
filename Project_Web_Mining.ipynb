{
  "nbformat": 4,
  "nbformat_minor": 0,
  "metadata": {
    "colab": {
      "name": "Project Web Mining.ipynb",
      "provenance": [],
      "collapsed_sections": [
        "EtPf_tq58On8",
        "vtwDcAI7p-2w",
        "5zf9tuYrO98G"
      ]
    },
    "kernelspec": {
      "name": "python3",
      "display_name": "Python 3"
    },
    "language_info": {
      "name": "python"
    }
  },
  "cells": [
    {
      "cell_type": "code",
      "metadata": {
        "id": "HKzeW_12-K3I"
      },
      "source": [
        "import numpy as np\n",
        "import pandas as pd\n",
        "import re\n",
        "from sklearn.model_selection import train_test_split, StratifiedKFold, cross_val_score, GridSearchCV\n",
        "import tensorflow as tf\n",
        "import keras\n",
        "from keras.layers import Bidirectional, LSTM\n",
        "from keras.models import Sequential\n",
        "from keras.preprocessing import text\n",
        "from sklearn.svm import SVC\n",
        "from sklearn import metrics\n",
        "from sklearn.metrics import confusion_matrix, ConfusionMatrixDisplay\n",
        "import matplotlib.pyplot as plt"
      ],
      "execution_count": null,
      "outputs": []
    },
    {
      "cell_type": "markdown",
      "metadata": {
        "id": "EtPf_tq58On8"
      },
      "source": [
        "# **Upload Data**"
      ]
    },
    {
      "cell_type": "code",
      "metadata": {
        "id": "3TUG0FYF8N9I"
      },
      "source": [
        "quipper_df = pd.read_csv('https://raw.githubusercontent.com/Syamsyuriani/Scrapping_Data/main/Quipper-Data_labelled.csv')"
      ],
      "execution_count": null,
      "outputs": []
    },
    {
      "cell_type": "code",
      "metadata": {
        "colab": {
          "base_uri": "https://localhost:8080/"
        },
        "id": "OnrRJAkwQd2S",
        "outputId": "437eae8f-2080-4ff2-b73f-c5d6f1798fe9"
      },
      "source": [
        "quipper_df.columns"
      ],
      "execution_count": null,
      "outputs": [
        {
          "output_type": "execute_result",
          "data": {
            "text/plain": [
              "Index(['review', 'label', 'Unnamed: 2', 'Unnamed: 3'], dtype='object')"
            ]
          },
          "metadata": {
            "tags": []
          },
          "execution_count": 8
        }
      ]
    },
    {
      "cell_type": "code",
      "metadata": {
        "colab": {
          "base_uri": "https://localhost:8080/",
          "height": 419
        },
        "id": "kBp4zeUau8ce",
        "outputId": "6c6693ad-216e-44b5-f678-db2ae35195b5"
      },
      "source": [
        "review = quipper_df.drop(columns=['Unnamed: 2', 'Unnamed: 3'])\n",
        "review"
      ],
      "execution_count": null,
      "outputs": [
        {
          "output_type": "execute_result",
          "data": {
            "text/html": [
              "<div>\n",
              "<style scoped>\n",
              "    .dataframe tbody tr th:only-of-type {\n",
              "        vertical-align: middle;\n",
              "    }\n",
              "\n",
              "    .dataframe tbody tr th {\n",
              "        vertical-align: top;\n",
              "    }\n",
              "\n",
              "    .dataframe thead th {\n",
              "        text-align: right;\n",
              "    }\n",
              "</style>\n",
              "<table border=\"1\" class=\"dataframe\">\n",
              "  <thead>\n",
              "    <tr style=\"text-align: right;\">\n",
              "      <th></th>\n",
              "      <th>review</th>\n",
              "      <th>label</th>\n",
              "    </tr>\n",
              "  </thead>\n",
              "  <tbody>\n",
              "    <tr>\n",
              "      <th>0</th>\n",
              "      <td>Apk Quipper sangat membantu dalam memahami pel...</td>\n",
              "      <td>-1</td>\n",
              "    </tr>\n",
              "    <tr>\n",
              "      <th>1</th>\n",
              "      <td>Penjelasannya bagus, tutornya juga enak ngejel...</td>\n",
              "      <td>-1</td>\n",
              "    </tr>\n",
              "    <tr>\n",
              "      <th>2</th>\n",
              "      <td>Tolong dong quipper, saya lagi ngerjain soal a...</td>\n",
              "      <td>-1</td>\n",
              "    </tr>\n",
              "    <tr>\n",
              "      <th>3</th>\n",
              "      <td>Banyak bug. klo matematika, fisika, kimia ,Jaw...</td>\n",
              "      <td>-1</td>\n",
              "    </tr>\n",
              "    <tr>\n",
              "      <th>4</th>\n",
              "      <td>Aplikasinya kurang menarik, pembahasan nya lam...</td>\n",
              "      <td>-1</td>\n",
              "    </tr>\n",
              "    <tr>\n",
              "      <th>...</th>\n",
              "      <td>...</td>\n",
              "      <td>...</td>\n",
              "    </tr>\n",
              "    <tr>\n",
              "      <th>4885</th>\n",
              "      <td>Bagus sekali bisa belajar dengan mudah</td>\n",
              "      <td>1</td>\n",
              "    </tr>\n",
              "    <tr>\n",
              "      <th>4886</th>\n",
              "      <td>Sangat bagus untuk belajar di manapun dan kapa...</td>\n",
              "      <td>1</td>\n",
              "    </tr>\n",
              "    <tr>\n",
              "      <th>4887</th>\n",
              "      <td>Untuk orang yg berminat</td>\n",
              "      <td>1</td>\n",
              "    </tr>\n",
              "    <tr>\n",
              "      <th>4888</th>\n",
              "      <td>Keren, sangat membantu siswa</td>\n",
              "      <td>1</td>\n",
              "    </tr>\n",
              "    <tr>\n",
              "      <th>4889</th>\n",
              "      <td>This app, help the all student</td>\n",
              "      <td>1</td>\n",
              "    </tr>\n",
              "  </tbody>\n",
              "</table>\n",
              "<p>4890 rows × 2 columns</p>\n",
              "</div>"
            ],
            "text/plain": [
              "                                                 review  label\n",
              "0     Apk Quipper sangat membantu dalam memahami pel...     -1\n",
              "1     Penjelasannya bagus, tutornya juga enak ngejel...     -1\n",
              "2     Tolong dong quipper, saya lagi ngerjain soal a...     -1\n",
              "3     Banyak bug. klo matematika, fisika, kimia ,Jaw...     -1\n",
              "4     Aplikasinya kurang menarik, pembahasan nya lam...     -1\n",
              "...                                                 ...    ...\n",
              "4885             Bagus sekali bisa belajar dengan mudah      1\n",
              "4886  Sangat bagus untuk belajar di manapun dan kapa...      1\n",
              "4887                            Untuk orang yg berminat      1\n",
              "4888                       Keren, sangat membantu siswa      1\n",
              "4889                     This app, help the all student      1\n",
              "\n",
              "[4890 rows x 2 columns]"
            ]
          },
          "metadata": {
            "tags": []
          },
          "execution_count": 9
        }
      ]
    },
    {
      "cell_type": "code",
      "metadata": {
        "colab": {
          "base_uri": "https://localhost:8080/",
          "height": 419
        },
        "id": "QDGV8CGCAtcm",
        "outputId": "165f0445-e6d1-4146-8874-28fe2cd97735"
      },
      "source": [
        "# Menghapus duplikat\n",
        "dt = review.drop_duplicates(subset=['review'], keep='last', inplace=False).reset_index()\n",
        "df = dt.drop(['index'], axis=1)\n",
        "df"
      ],
      "execution_count": null,
      "outputs": [
        {
          "output_type": "execute_result",
          "data": {
            "text/html": [
              "<div>\n",
              "<style scoped>\n",
              "    .dataframe tbody tr th:only-of-type {\n",
              "        vertical-align: middle;\n",
              "    }\n",
              "\n",
              "    .dataframe tbody tr th {\n",
              "        vertical-align: top;\n",
              "    }\n",
              "\n",
              "    .dataframe thead th {\n",
              "        text-align: right;\n",
              "    }\n",
              "</style>\n",
              "<table border=\"1\" class=\"dataframe\">\n",
              "  <thead>\n",
              "    <tr style=\"text-align: right;\">\n",
              "      <th></th>\n",
              "      <th>review</th>\n",
              "      <th>label</th>\n",
              "    </tr>\n",
              "  </thead>\n",
              "  <tbody>\n",
              "    <tr>\n",
              "      <th>0</th>\n",
              "      <td>Apk Quipper sangat membantu dalam memahami pel...</td>\n",
              "      <td>-1</td>\n",
              "    </tr>\n",
              "    <tr>\n",
              "      <th>1</th>\n",
              "      <td>Penjelasannya bagus, tutornya juga enak ngejel...</td>\n",
              "      <td>-1</td>\n",
              "    </tr>\n",
              "    <tr>\n",
              "      <th>2</th>\n",
              "      <td>Tolong dong quipper, saya lagi ngerjain soal a...</td>\n",
              "      <td>-1</td>\n",
              "    </tr>\n",
              "    <tr>\n",
              "      <th>3</th>\n",
              "      <td>Banyak bug. klo matematika, fisika, kimia ,Jaw...</td>\n",
              "      <td>-1</td>\n",
              "    </tr>\n",
              "    <tr>\n",
              "      <th>4</th>\n",
              "      <td>Aplikasinya kurang menarik, pembahasan nya lam...</td>\n",
              "      <td>-1</td>\n",
              "    </tr>\n",
              "    <tr>\n",
              "      <th>...</th>\n",
              "      <td>...</td>\n",
              "      <td>...</td>\n",
              "    </tr>\n",
              "    <tr>\n",
              "      <th>3906</th>\n",
              "      <td>Bagus sekali bisa belajar dengan mudah</td>\n",
              "      <td>1</td>\n",
              "    </tr>\n",
              "    <tr>\n",
              "      <th>3907</th>\n",
              "      <td>Sangat bagus untuk belajar di manapun dan kapa...</td>\n",
              "      <td>1</td>\n",
              "    </tr>\n",
              "    <tr>\n",
              "      <th>3908</th>\n",
              "      <td>Untuk orang yg berminat</td>\n",
              "      <td>1</td>\n",
              "    </tr>\n",
              "    <tr>\n",
              "      <th>3909</th>\n",
              "      <td>Keren, sangat membantu siswa</td>\n",
              "      <td>1</td>\n",
              "    </tr>\n",
              "    <tr>\n",
              "      <th>3910</th>\n",
              "      <td>This app, help the all student</td>\n",
              "      <td>1</td>\n",
              "    </tr>\n",
              "  </tbody>\n",
              "</table>\n",
              "<p>3911 rows × 2 columns</p>\n",
              "</div>"
            ],
            "text/plain": [
              "                                                 review  label\n",
              "0     Apk Quipper sangat membantu dalam memahami pel...     -1\n",
              "1     Penjelasannya bagus, tutornya juga enak ngejel...     -1\n",
              "2     Tolong dong quipper, saya lagi ngerjain soal a...     -1\n",
              "3     Banyak bug. klo matematika, fisika, kimia ,Jaw...     -1\n",
              "4     Aplikasinya kurang menarik, pembahasan nya lam...     -1\n",
              "...                                                 ...    ...\n",
              "3906             Bagus sekali bisa belajar dengan mudah      1\n",
              "3907  Sangat bagus untuk belajar di manapun dan kapa...      1\n",
              "3908                            Untuk orang yg berminat      1\n",
              "3909                       Keren, sangat membantu siswa      1\n",
              "3910                     This app, help the all student      1\n",
              "\n",
              "[3911 rows x 2 columns]"
            ]
          },
          "metadata": {
            "tags": []
          },
          "execution_count": 10
        }
      ]
    },
    {
      "cell_type": "code",
      "metadata": {
        "colab": {
          "base_uri": "https://localhost:8080/"
        },
        "id": "QrwznBzTIVY5",
        "outputId": "e6d7da05-60c0-4a16-a529-ecfee0d84821"
      },
      "source": [
        "df['label'].value_counts()"
      ],
      "execution_count": null,
      "outputs": [
        {
          "output_type": "execute_result",
          "data": {
            "text/plain": [
              "-1    2210\n",
              " 1    1701\n",
              "Name: label, dtype: int64"
            ]
          },
          "metadata": {
            "tags": []
          },
          "execution_count": 11
        }
      ]
    },
    {
      "cell_type": "code",
      "metadata": {
        "colab": {
          "base_uri": "https://localhost:8080/",
          "height": 295
        },
        "id": "TP8hDNYUEwyA",
        "outputId": "38ac0814-3280-4260-8e44-a63cc4d68bf0"
      },
      "source": [
        "labels = ['Positive','Negative']\n",
        "Category1 = ['1701','3063']\n",
        "plt.pie(Category1, labels=labels, autopct='%1.2f%%', colors=['coral', 'c'])\n",
        "plt.xlabel('Kelas Sentimen')\n",
        "plt.ylabel('Data')\n",
        "plt.title('Diagram Lingkaran Data Analisis Sentimen')"
      ],
      "execution_count": null,
      "outputs": [
        {
          "output_type": "execute_result",
          "data": {
            "text/plain": [
              "Text(0.5, 1.0, 'Diagram Lingkaran Data Analisis Sentimen')"
            ]
          },
          "metadata": {
            "tags": []
          },
          "execution_count": 12
        },
        {
          "output_type": "display_data",
          "data": {
            "image/png": "[encoded data removed]",
            "text/plain": [
              "<Figure size 432x288 with 1 Axes>"
            ]
          },
          "metadata": {
            "tags": []
          }
        }
      ]
    },
    {
      "cell_type": "code",
      "metadata": {
        "colab": {
          "base_uri": "https://localhost:8080/",
          "height": 312
        },
        "id": "e0YTMPkYIpUR",
        "outputId": "52b9527f-c07b-4ff0-c71b-347535210fe4"
      },
      "source": [
        "labels = ['Positive','Negative']\n",
        "Category1 = [1701, 3063]\n",
        "plt.bar(labels, Category1, tick_label=labels, width=0.5, color=['coral', 'c'])\n",
        "plt.xlabel('Kelas Sentimen')\n",
        "plt.ylabel('Data')\n",
        "plt.title('Diagram Bar Data Analisis Sentimen')"
      ],
      "execution_count": null,
      "outputs": [
        {
          "output_type": "execute_result",
          "data": {
            "text/plain": [
              "Text(0.5, 1.0, 'Diagram Bar Data Analisis Sentimen')"
            ]
          },
          "metadata": {
            "tags": []
          },
          "execution_count": 13
        },
        {
          "output_type": "display_data",
          "data": {
            "image/png": "[encoded data removed]",
            "text/plain": [
              "<Figure size 432x288 with 1 Axes>"
            ]
          },
          "metadata": {
            "tags": [],
            "needs_background": "light"
          }
        }
      ]
    },
    {
      "cell_type": "markdown",
      "metadata": {
        "id": "vtwDcAI7p-2w"
      },
      "source": [
        "# ***Pre-processing***"
      ]
    },
    {
      "cell_type": "code",
      "metadata": {
        "id": "t3z8tm6dtP25"
      },
      "source": [
        "#PEMBERSIHAN(CLEANING DATA)\n",
        "stopwords = pd.read_csv(\"https://raw.githubusercontent.com/listakurniawati/COVID-19-With-SVM/main/stopwords_id.csv?token=ARCQD7EZ55J4TUTAWYYLYOTAX3FTW\")\n",
        "stopwords = np.append(stopwords, \"rt\")\n",
        " \n",
        "def clean_text(tweet):\n",
        " \n",
        "    # Convert to lower case\n",
        "    tweet = tweet.lower()\n",
        "    # Clean www.* or https?://*\n",
        "    tweet = re.sub('((www\\.[^\\s]+)|(https?://[^\\s]+))','',tweet)\n",
        "    # Clean @username\n",
        "    tweet = re.sub('@[^\\s]+','',tweet)\n",
        "    #Remove punctuation\n",
        "    tweet = re.sub(r'[^\\w\\s]',' ', tweet)\n",
        "    #Replace #word with word\n",
        "    tweet = re.sub(r'#([^\\s]+)', r'\\1', tweet)\n",
        "    #Remove punctuation\n",
        "    tweet = re.sub(r'[^\\w\\s]',' ', tweet)\n",
        "    #Clean number\n",
        "    tweet = re.sub(r'[\\d-]', '', tweet)\n",
        "    #Remove additional white spaces\n",
        "    tweet = re.sub('[\\s]+', ' ', tweet)\n",
        "    #trim\n",
        "    tweet = tweet.strip('\\'\"')\n",
        "    # Clean per Words\n",
        "    words = tweet.split()\n",
        "    tokens=[]\n",
        "    for ww in words:\n",
        "        #split repeated word\n",
        "        for w in re.split(r'[-/\\s]\\s*', ww):\n",
        "            #replace two or more with two occurrences\n",
        "            pattern = re.compile(r\"(.)\\1{1,}\", re.DOTALL)\n",
        "            w = pattern.sub(r\"\\1\\1\", w)\n",
        "            #strip punctuation\n",
        "            w = w.strip('\\'\"?,.')\n",
        "            #check if the word cosists of two or more alphabets\n",
        "            val = re.search(r\"^[a-zA-Z][a-zA-Z][a-zA-Z]*$\", w)\n",
        "            #add tokens\n",
        "            if(w in stopwords or val is None):\n",
        "                continue\n",
        "            else:\n",
        "                tokens.append(w.lower())\n",
        "    \n",
        "    tweet = \" \".join(tokens)\n",
        "    return tweet"
      ],
      "execution_count": null,
      "outputs": []
    },
    {
      "cell_type": "code",
      "metadata": {
        "id": "xqSK03knf2k-"
      },
      "source": [
        "df['label'] = df['label'].replace(-1,0)"
      ],
      "execution_count": null,
      "outputs": []
    },
    {
      "cell_type": "code",
      "metadata": {
        "colab": {
          "base_uri": "https://localhost:8080/",
          "height": 419
        },
        "id": "ly4Xr6edIjj9",
        "outputId": "b81d0c74-72e7-409c-fa42-c673de98555c"
      },
      "source": [
        "df['review'] = df['review'].map(lambda x: clean_text(x))\n",
        "df = df[df['review'].apply(lambda x: len(x.split()) >=1)]\n",
        "df"
      ],
      "execution_count": null,
      "outputs": [
        {
          "output_type": "execute_result",
          "data": {
            "text/html": [
              "<div>\n",
              "<style scoped>\n",
              "    .dataframe tbody tr th:only-of-type {\n",
              "        vertical-align: middle;\n",
              "    }\n",
              "\n",
              "    .dataframe tbody tr th {\n",
              "        vertical-align: top;\n",
              "    }\n",
              "\n",
              "    .dataframe thead th {\n",
              "        text-align: right;\n",
              "    }\n",
              "</style>\n",
              "<table border=\"1\" class=\"dataframe\">\n",
              "  <thead>\n",
              "    <tr style=\"text-align: right;\">\n",
              "      <th></th>\n",
              "      <th>review</th>\n",
              "      <th>label</th>\n",
              "    </tr>\n",
              "  </thead>\n",
              "  <tbody>\n",
              "    <tr>\n",
              "      <th>0</th>\n",
              "      <td>apk quipper membantu memahami pelajaran solusi...</td>\n",
              "      <td>0</td>\n",
              "    </tr>\n",
              "    <tr>\n",
              "      <th>1</th>\n",
              "      <td>penjelasannya bagus tutornya enak ngejelasinny...</td>\n",
              "      <td>0</td>\n",
              "    </tr>\n",
              "    <tr>\n",
              "      <th>2</th>\n",
              "      <td>tolong quipper ngerjain tryout aplikasi koneks...</td>\n",
              "      <td>0</td>\n",
              "    </tr>\n",
              "    <tr>\n",
              "      <th>3</th>\n",
              "      <td>bug klo matematika fisika kimia fail loaded</td>\n",
              "      <td>0</td>\n",
              "    </tr>\n",
              "    <tr>\n",
              "      <th>4</th>\n",
              "      <td>aplikasinya menarik pembahasan nya banget gak ...</td>\n",
              "      <td>0</td>\n",
              "    </tr>\n",
              "    <tr>\n",
              "      <th>...</th>\n",
              "      <td>...</td>\n",
              "      <td>...</td>\n",
              "    </tr>\n",
              "    <tr>\n",
              "      <th>3906</th>\n",
              "      <td>bagus belajar mudah</td>\n",
              "      <td>1</td>\n",
              "    </tr>\n",
              "    <tr>\n",
              "      <th>3907</th>\n",
              "      <td>bagus belajar manapun</td>\n",
              "      <td>1</td>\n",
              "    </tr>\n",
              "    <tr>\n",
              "      <th>3908</th>\n",
              "      <td>orang yg berminat</td>\n",
              "      <td>1</td>\n",
              "    </tr>\n",
              "    <tr>\n",
              "      <th>3909</th>\n",
              "      <td>keren membantu siswa</td>\n",
              "      <td>1</td>\n",
              "    </tr>\n",
              "    <tr>\n",
              "      <th>3910</th>\n",
              "      <td>this app help the all student</td>\n",
              "      <td>1</td>\n",
              "    </tr>\n",
              "  </tbody>\n",
              "</table>\n",
              "<p>3875 rows × 2 columns</p>\n",
              "</div>"
            ],
            "text/plain": [
              "                                                 review  label\n",
              "0     apk quipper membantu memahami pelajaran solusi...      0\n",
              "1     penjelasannya bagus tutornya enak ngejelasinny...      0\n",
              "2     tolong quipper ngerjain tryout aplikasi koneks...      0\n",
              "3           bug klo matematika fisika kimia fail loaded      0\n",
              "4     aplikasinya menarik pembahasan nya banget gak ...      0\n",
              "...                                                 ...    ...\n",
              "3906                                bagus belajar mudah      1\n",
              "3907                              bagus belajar manapun      1\n",
              "3908                                  orang yg berminat      1\n",
              "3909                               keren membantu siswa      1\n",
              "3910                      this app help the all student      1\n",
              "\n",
              "[3875 rows x 2 columns]"
            ]
          },
          "metadata": {
            "tags": []
          },
          "execution_count": 16
        }
      ]
    },
    {
      "cell_type": "code",
      "metadata": {
        "id": "cFxQeILgx-LG"
      },
      "source": [
        "#tokenisasi\n",
        "tokenizer = keras.preprocessing.text.Tokenizer()\n",
        "tokenizer.fit_on_texts(df['review'])"
      ],
      "execution_count": null,
      "outputs": []
    },
    {
      "cell_type": "code",
      "metadata": {
        "id": "-bOtaFuL0LQH",
        "colab": {
          "base_uri": "https://localhost:8080/"
        },
        "outputId": "ff04a63e-7653-4a86-900c-ed5c219ce7ed"
      },
      "source": [
        "sequences = tokenizer.texts_to_sequences(df['review'])\n",
        "x = keras.preprocessing.sequence.pad_sequences(sequences, maxlen=80)\n",
        "y = np.array((df['label']))"
      ],
      "execution_count": null,
      "outputs": [
        {
          "output_type": "execute_result",
          "data": {
            "text/plain": [
              "array([0, 0, 0, ..., 1, 1, 1])"
            ]
          },
          "metadata": {
            "tags": []
          },
          "execution_count": 42
        }
      ]
    },
    {
      "cell_type": "code",
      "metadata": {
        "id": "ZimFJmjoLvCq"
      },
      "source": [
        "x_train, x_test, y_train, y_test = train_test_split(x,y, test_size = 0.2, random_state = 42)"
      ],
      "execution_count": null,
      "outputs": []
    },
    {
      "cell_type": "code",
      "metadata": {
        "colab": {
          "base_uri": "https://localhost:8080/"
        },
        "id": "DPXkGwkOceme",
        "outputId": "59fdc0e0-ab49-44c8-876b-530598a37aab"
      },
      "source": [
        "seq_length = x.shape[1]\n",
        "print(seq_length)\n",
        "vocab_size = len(tokenizer.index_word) + 1\n",
        "print(vocab_size)"
      ],
      "execution_count": null,
      "outputs": [
        {
          "output_type": "stream",
          "text": [
            "80\n",
            "5127\n"
          ],
          "name": "stdout"
        }
      ]
    },
    {
      "cell_type": "markdown",
      "metadata": {
        "id": "5zf9tuYrO98G"
      },
      "source": [
        "# **Model CNN BiLSTM**"
      ]
    },
    {
      "cell_type": "code",
      "metadata": {
        "colab": {
          "base_uri": "https://localhost:8080/"
        },
        "id": "SD72jUanJe2Y",
        "outputId": "897e67dd-fc57-47f8-e25d-429702cc0776"
      },
      "source": [
        "pip install -q -U keras-tuner"
      ],
      "execution_count": null,
      "outputs": [
        {
          "output_type": "stream",
          "text": [
            "\u001b[?25l\r\u001b[K     |█████▏                          | 10kB 18.4MB/s eta 0:00:01\r\u001b[K     |██████████▍                     | 20kB 9.5MB/s eta 0:00:01\r\u001b[K     |███████████████▋                | 30kB 8.0MB/s eta 0:00:01\r\u001b[K     |████████████████████▉           | 40kB 7.5MB/s eta 0:00:01\r\u001b[K     |██████████████████████████      | 51kB 4.1MB/s eta 0:00:01\r\u001b[K     |███████████████████████████████▎| 61kB 4.3MB/s eta 0:00:01\r\u001b[K     |████████████████████████████████| 71kB 3.5MB/s \n",
            "\u001b[?25h  Building wheel for keras-tuner (setup.py) ... \u001b[?25l\u001b[?25hdone\n",
            "  Building wheel for terminaltables (setup.py) ... \u001b[?25l\u001b[?25hdone\n"
          ],
          "name": "stdout"
        }
      ]
    },
    {
      "cell_type": "code",
      "metadata": {
        "id": "dCtMUJeJ-rji",
        "colab": {
          "base_uri": "https://localhost:8080/"
        },
        "outputId": "8208653b-0690-4f4b-91e5-05a7a336425e"
      },
      "source": [
        "from tensorflow import keras\n",
        "from kerastuner.tuners import BayesianOptimization\n",
        "\n",
        "def cnn_bilstm(hp):\n",
        "\n",
        "    ### Arsitektur\n",
        "\n",
        "    #Input layer\n",
        "    inputs = keras.layers.Input(shape=(seq_length,))\n",
        "\n",
        "    #Embedding\n",
        "    embedding = keras.layers.Embedding(input_dim = vocab_size,\n",
        "                                       output_dim = hp.Choice('embedding_size', values = [64, 100]))(inputs)\n",
        "\n",
        "    #Convolution layer\n",
        "    ngram_1 = keras.layers.Conv1D(filters = hp.Int('filters',\n",
        "                                                min_value = 32, \n",
        "                                                max_value = 512, \n",
        "                                                step = 32),\n",
        "                                  kernel_size = hp.Int('kernel_size',\n",
        "                                                min_value = 2, \n",
        "                                                max_value = 5, \n",
        "                                                step = 1),\n",
        "                                  activation='relu',\n",
        "                                  kernel_regularizer = keras.regularizers.l2(hp.Choice('kernel_cnn',\n",
        "                                                                                       values = [0.0, 0.01])))(embedding)\n",
        "    ngram_2 = keras.layers.Conv1D(filters = hp.Int('filters',\n",
        "                                                min_value = 32, \n",
        "                                                max_value = 512, \n",
        "                                                step = 32),\n",
        "                                  kernel_size = hp.Int('kernel_size',\n",
        "                                                min_value = 2, \n",
        "                                                max_value = 5, \n",
        "                                                step = 1),\n",
        "                                  activation='relu',\n",
        "                                  kernel_regularizer = keras.regularizers.l2(hp.Choice('kernel_cnn',\n",
        "                                                                                       values = [0.0, 0.01])))(embedding)\n",
        "    ngram_3 = keras.layers.Conv1D(filters = hp.Int('filters',\n",
        "                                                min_value = 32, \n",
        "                                                max_value = 512, \n",
        "                                                step = 32),\n",
        "                                  kernel_size = hp.Int('kernel_size',\n",
        "                                                min_value = 2, \n",
        "                                                max_value = 5, \n",
        "                                                step = 1),\n",
        "                                  activation='relu',\n",
        "                                  kernel_regularizer = keras.regularizers.l2(hp.Choice('kernel_cnn',\n",
        "                                                                                       values = [0.0, 0.01])))(embedding)\n",
        "    ngram_4 = keras.layers.Conv1D(filters = hp.Int('filters',\n",
        "                                                min_value = 32, \n",
        "                                                max_value = 512, \n",
        "                                                step = 32),\n",
        "                                  kernel_size = hp.Int('kernel_size',\n",
        "                                                min_value = 2, \n",
        "                                                max_value = 5, \n",
        "                                                step = 1),\n",
        "                                  activation='relu',\n",
        "                                  kernel_regularizer = keras.regularizers.l2(hp.Choice('kernel_cnn',\n",
        "                                                                                       values = [0.0, 0.01])))(embedding)\n",
        "\n",
        "    #Max Pooling layer\n",
        "    ngram_1 = keras.layers.GlobalMaxPooling1D()(ngram_1)\n",
        "    ngram_2 = keras.layers.GlobalMaxPooling1D()(ngram_2)\n",
        "    ngram_3 = keras.layers.GlobalMaxPooling1D()(ngram_3)\n",
        "    ngram_4 = keras.layers.GlobalMaxPooling1D()(ngram_4)\n",
        "    merged = keras.layers.Concatenate(axis=1)([ngram_1, ngram_2, ngram_3, ngram_4])\n",
        "\n",
        "    #BiLSTM layer\n",
        "    bilstm1 = keras.layers.Layer(LSTM(units = hp.Int('units',\n",
        "                                                     min_value = 32,\n",
        "                                                     max_value = 512,\n",
        "                                                     step = 32),\n",
        "                                      kernel_regularizer=keras.regularizers.l2(hp.Choice('kernel_regularizer',\n",
        "                                                                                         values = [0.0, 0.01])),\n",
        "                                      recurrent_regularizer=keras.regularizers.l2(hp.Choice('rec_regularizer',\n",
        "                                                                                            values = [0.0, 0.01])),\n",
        "                                      return_sequences = True))(merged)\n",
        "    bilstm2 = keras.layers.Layer(LSTM(units = hp.Int('units',\n",
        "                                                     min_value = 32,\n",
        "                                                     max_value = 512,\n",
        "                                                     step = 32),\n",
        "                                      kernel_regularizer=keras.regularizers.l2(hp.Choice('kernel_regularizer',\n",
        "                                                                                         values = [0.0, 0.01])),\n",
        "                                      recurrent_regularizer=keras.regularizers.l2(hp.Choice('rec_regularizer',\n",
        "                                                                                            values = [0.0, 0.01])),\n",
        "                                      return_sequences = True, go_backwards=True))(bilstm1)\n",
        "    \n",
        "    #Dropout layer\n",
        "    lstm_out = keras.layers.Dropout(0.25)(bilstm2)\n",
        "\n",
        "    #Output layer\n",
        "    output = keras.layers.Dense(1, activation='sigmoid', kernel_regularizer=keras.regularizers.l2(hp.Choice('kernel_dense', values = [0.0, 0.01])))(lstm_out)\n",
        "    model = keras.models.Model(inputs=inputs, outputs=output)\n",
        "\n",
        "    model.compile(optimizer = keras.optimizers.Adam(\n",
        "                              hp.Choice('learning_rate', \n",
        "                                        values = [1e-2, 1e-3, 1e-4])),\n",
        "                              loss='binary_crossentropy',\n",
        "                              metrics=['accuracy'])\n",
        "\n",
        "    return model\n",
        "\n",
        "tuner = BayesianOptimization(cnn_bilstm,\n",
        "                             objective = 'val_accuracy', \n",
        "                             max_trials = 10,\n",
        "                             directory = 'Hasil',\n",
        "                             project_name = 'Sentimen_CNN-BiLSTM')\n",
        "\n",
        "tuner.search(x_train, y_train, batch_size=32, epochs = 5, validation_data = (x_test, y_test))\n",
        "\n",
        "# Get the optimal hyperparameters\n",
        "best_hps = tuner.get_best_hyperparameters()[0]\n",
        "\n",
        "print('\\nThe hyperparameter search is complete. \\nembedding_size:', best_hps.get('embedding_size'),\n",
        "      '\\nfilters:', {best_hps.get('filters')},\n",
        "      '\\nkernel_size:', best_hps.get('kernel_size'),\n",
        "      '\\nkernel_cnn:', best_hps.get('kernel_cnn'),\n",
        "      '\\nunit:', best_hps.get('units'),\n",
        "      '\\nkernel_regularizer:', best_hps.get('kernel_regularizer'),\n",
        "      '\\nrec_regularizer:', best_hps.get('rec_regularizer'),\n",
        "      '\\nkernel_dense:', best_hps.get('kernel_dense'),\n",
        "      '\\nLearning rate:', best_hps.get('learning_rate'))"
      ],
      "execution_count": null,
      "outputs": [
        {
          "output_type": "stream",
          "text": [
            "Trial 10 Complete [00h 00m 17s]\n",
            "val_accuracy: 0.8812903165817261\n",
            "\n",
            "Best val_accuracy So Far: 0.8812903165817261\n",
            "Total elapsed time: 00h 06m 43s\n",
            "INFO:tensorflow:Oracle triggered exit\n",
            "The hyperparameter search is complete. \n",
            "embedding_size: 64 \n",
            "filters: {32} \n",
            "kernel_size: 5 \n",
            "kernel_cnn: 0.0 \n",
            "unit: 32 \n",
            "kernel_regularizer: 0.01 \n",
            "rec_regularizer: 0.01 \n",
            "kernel_dense: 0.01 \n",
            "Learning rate: 0.01\n"
          ],
          "name": "stdout"
        }
      ]
    },
    {
      "cell_type": "code",
      "metadata": {
        "colab": {
          "base_uri": "https://localhost:8080/",
          "height": 713
        },
        "id": "sGr7gMSOXFX4",
        "outputId": "f3dafabd-a5a5-43de-9612-9cae5f7ce1a9"
      },
      "source": [
        "from tensorflow.keras.utils import plot_model\n",
        "\n",
        "model = tuner.hypermodel.build(best_hps)\n",
        "\n",
        "#Plot Model\n",
        "plot_model(model, to_file='model.png', show_shapes=True, show_layer_names=False, rankdir='TB')"
      ],
      "execution_count": null,
      "outputs": [
        {
          "output_type": "execute_result",
          "data": {
            "image/png": "[encoded data removed]",
            "text/plain": [
              "<IPython.core.display.Image object>"
            ]
          },
          "metadata": {
            "tags": []
          },
          "execution_count": 24
        }
      ]
    },
    {
      "cell_type": "code",
      "metadata": {
        "colab": {
          "base_uri": "https://localhost:8080/"
        },
        "id": "PT5xuTx3VCwO",
        "outputId": "4345c202-1b02-4b75-b54e-fc51a4b63ddb"
      },
      "source": [
        "from keras.callbacks import EarlyStopping\n",
        "\n",
        "# Retrain model with the optimal hyperparameters\n",
        "early_stop = EarlyStopping(monitor='val_loss', patience=5, verbose=1)\n",
        "history = model.fit(x_train, y_train, batch_size=32, epochs = 50, validation_data = (x_test, y_test), callbacks=[early_stop])"
      ],
      "execution_count": null,
      "outputs": [
        {
          "output_type": "stream",
          "text": [
            "Epoch 1/50\n",
            "97/97 [==============================] - 4s 34ms/step - loss: 0.4229 - accuracy: 0.8165 - val_loss: 0.3305 - val_accuracy: 0.8529\n",
            "Epoch 2/50\n",
            "97/97 [==============================] - 3s 32ms/step - loss: 0.1742 - accuracy: 0.9458 - val_loss: 0.3827 - val_accuracy: 0.8516\n",
            "Epoch 3/50\n",
            "97/97 [==============================] - 3s 32ms/step - loss: 0.0951 - accuracy: 0.9706 - val_loss: 0.4915 - val_accuracy: 0.8413\n",
            "Epoch 4/50\n",
            "97/97 [==============================] - 3s 32ms/step - loss: 0.0689 - accuracy: 0.9813 - val_loss: 0.6129 - val_accuracy: 0.8555\n",
            "Epoch 5/50\n",
            "97/97 [==============================] - 3s 32ms/step - loss: 0.0487 - accuracy: 0.9852 - val_loss: 0.5435 - val_accuracy: 0.8568\n",
            "Epoch 6/50\n",
            "97/97 [==============================] - 3s 32ms/step - loss: 0.0394 - accuracy: 0.9881 - val_loss: 0.6111 - val_accuracy: 0.8581\n",
            "Epoch 00006: early stopping\n"
          ],
          "name": "stdout"
        }
      ]
    },
    {
      "cell_type": "code",
      "metadata": {
        "colab": {
          "base_uri": "https://localhost:8080/",
          "height": 320
        },
        "id": "PntiZ8pfZtmL",
        "outputId": "3a205df7-847e-47c7-edde-f6403ba2e488"
      },
      "source": [
        "# Plot grafik loss dan accuracy\n",
        "pd.DataFrame(history.history).plot(figsize=(8, 5))\n",
        "plt.grid(True)\n",
        "plt.gca().set_ylim(0,1.5)\n",
        "\n",
        "plt.show()"
      ],
      "execution_count": null,
      "outputs": [
        {
          "output_type": "display_data",
          "data": {
            "image/png": "[encoded data removed]",
            "text/plain": [
              "<Figure size 576x360 with 1 Axes>"
            ]
          },
          "metadata": {
            "tags": [],
            "needs_background": "light"
          }
        }
      ]
    },
    {
      "cell_type": "code",
      "metadata": {
        "colab": {
          "base_uri": "https://localhost:8080/"
        },
        "id": "5TvmH7RgWcgf",
        "outputId": "2e336299-00fa-4912-d5be-30dc0b88fc5b"
      },
      "source": [
        "## Evaluasi Model\n",
        "test_loss, test_acc = model.evaluate(x_test, y_test)\n",
        "print('Test accuracy:', test_acc)"
      ],
      "execution_count": null,
      "outputs": [
        {
          "output_type": "stream",
          "text": [
            "25/25 [==============================] - 0s 6ms/step - loss: 0.6111 - accuracy: 0.8581\n",
            "Test accuracy: 0.8580645322799683\n"
          ],
          "name": "stdout"
        }
      ]
    },
    {
      "cell_type": "code",
      "metadata": {
        "id": "hTyNM5AvWd1E"
      },
      "source": [
        "## Penyimpanan Model\n",
        "model.save('Data/model_CNN-BiLSTM_sentiment.h5')"
      ],
      "execution_count": null,
      "outputs": []
    },
    {
      "cell_type": "markdown",
      "metadata": {
        "id": "I3oI9nRiskIz"
      },
      "source": [
        "# **Prediksi data baru**"
      ]
    },
    {
      "cell_type": "code",
      "metadata": {
        "colab": {
          "base_uri": "https://localhost:8080/",
          "height": 419
        },
        "id": "Aaj220yEsrnX",
        "outputId": "f3c90b61-8861-4421-b118-78be207ea8b7"
      },
      "source": [
        "# Upload data yang akan diprediksi\n",
        "new_data = pd.read_csv('https://raw.githubusercontent.com/Syamsyuriani/Scrapping_Data/main/Quipper-Data.csv')\n",
        "new_data"
      ],
      "execution_count": null,
      "outputs": [
        {
          "output_type": "execute_result",
          "data": {
            "text/html": [
              "<div>\n",
              "<style scoped>\n",
              "    .dataframe tbody tr th:only-of-type {\n",
              "        vertical-align: middle;\n",
              "    }\n",
              "\n",
              "    .dataframe tbody tr th {\n",
              "        vertical-align: top;\n",
              "    }\n",
              "\n",
              "    .dataframe thead th {\n",
              "        text-align: right;\n",
              "    }\n",
              "</style>\n",
              "<table border=\"1\" class=\"dataframe\">\n",
              "  <thead>\n",
              "    <tr style=\"text-align: right;\">\n",
              "      <th></th>\n",
              "      <th>review</th>\n",
              "    </tr>\n",
              "  </thead>\n",
              "  <tbody>\n",
              "    <tr>\n",
              "      <th>0</th>\n",
              "      <td>kalau bisa di perbarui lagi</td>\n",
              "    </tr>\n",
              "    <tr>\n",
              "      <th>1</th>\n",
              "      <td>KEREN!!!</td>\n",
              "    </tr>\n",
              "    <tr>\n",
              "      <th>2</th>\n",
              "      <td>Kalo yang udah daftar terus di login pake facebook gampang,,, tapi kok quipper sekarang makin jelek</td>\n",
              "    </tr>\n",
              "    <tr>\n",
              "      <th>3</th>\n",
              "      <td>Kode kelas tidak di temukan gimana nh min??? Dan untuk smk di tambah dong!!!!</td>\n",
              "    </tr>\n",
              "    <tr>\n",
              "      <th>4</th>\n",
              "      <td>hai quipper video 😊 , saya ingin memberi masukan, lebih baik video yang sudah di unduh dan di si...</td>\n",
              "    </tr>\n",
              "    <tr>\n",
              "      <th>...</th>\n",
              "      <td>...</td>\n",
              "    </tr>\n",
              "    <tr>\n",
              "      <th>1282</th>\n",
              "      <td>Gimana cara masukin soal?</td>\n",
              "    </tr>\n",
              "    <tr>\n",
              "      <th>1283</th>\n",
              "      <td>Amit jangan donwlod nyesel</td>\n",
              "    </tr>\n",
              "    <tr>\n",
              "      <th>1284</th>\n",
              "      <td>cari kode kelasnya dimanaaa..</td>\n",
              "    </tr>\n",
              "    <tr>\n",
              "      <th>1285</th>\n",
              "      <td>Harus bayar paketnya</td>\n",
              "    </tr>\n",
              "    <tr>\n",
              "      <th>1286</th>\n",
              "      <td>Cara nya bagaimana ya?</td>\n",
              "    </tr>\n",
              "  </tbody>\n",
              "</table>\n",
              "<p>1287 rows × 1 columns</p>\n",
              "</div>"
            ],
            "text/plain": [
              "                                                                                                   review\n",
              "0                                                                             kalau bisa di perbarui lagi\n",
              "1                                                                                                KEREN!!!\n",
              "2     Kalo yang udah daftar terus di login pake facebook gampang,,, tapi kok quipper sekarang makin jelek\n",
              "3                           Kode kelas tidak di temukan gimana nh min??? Dan untuk smk di tambah dong!!!!\n",
              "4     hai quipper video 😊 , saya ingin memberi masukan, lebih baik video yang sudah di unduh dan di si...\n",
              "...                                                                                                   ...\n",
              "1282                                                                            Gimana cara masukin soal?\n",
              "1283                                                                           Amit jangan donwlod nyesel\n",
              "1284                                                                        cari kode kelasnya dimanaaa..\n",
              "1285                                                                                 Harus bayar paketnya\n",
              "1286                                                                               Cara nya bagaimana ya?\n",
              "\n",
              "[1287 rows x 1 columns]"
            ]
          },
          "metadata": {
            "tags": []
          },
          "execution_count": 99
        }
      ]
    },
    {
      "cell_type": "code",
      "metadata": {
        "id": "aeE0lvcwtAUq"
      },
      "source": [
        "# Memuat kembali model\n",
        "model = keras.models.load_model('Data/model_CNN-BiLSTM_sentiment.h5')"
      ],
      "execution_count": null,
      "outputs": []
    },
    {
      "cell_type": "code",
      "metadata": {
        "id": "n6mtoBZUt0sO"
      },
      "source": [
        "# Tokenisasi dan pad sequencing\n",
        "tokenizer = keras.preprocessing.text.Tokenizer()\n",
        "tokenizer.fit_on_texts(new_data['review'])\n",
        "seq = tokenizer.texts_to_sequences(new_data['review'])\n",
        "x_pred = keras.preprocessing.sequence.pad_sequences(seq, maxlen=80)\n",
        "y_pred = model.predict(x_pred)\n",
        "\n",
        "treshold = 0.5\n",
        "for i in range(y_pred.shape[0]):\n",
        "  if y_pred[i] > treshold:\n",
        "    y_pred[i] = 1\n",
        "  else:\n",
        "    y_pred[i] = -1\n",
        "\n",
        "new_data['label'] = y_pred"
      ],
      "execution_count": null,
      "outputs": []
    },
    {
      "cell_type": "code",
      "metadata": {
        "colab": {
          "base_uri": "https://localhost:8080/",
          "height": 419
        },
        "id": "q9sIjgUXyDHF",
        "outputId": "c00c0d72-0d2a-41bb-e145-8bb1e2e8ea81"
      },
      "source": [
        "# Hasil data yang telah diberi label\n",
        "pd.set_option(\"max_colwidth\", 100)\n",
        "new_data"
      ],
      "execution_count": null,
      "outputs": [
        {
          "output_type": "execute_result",
          "data": {
            "text/html": [
              "<div>\n",
              "<style scoped>\n",
              "    .dataframe tbody tr th:only-of-type {\n",
              "        vertical-align: middle;\n",
              "    }\n",
              "\n",
              "    .dataframe tbody tr th {\n",
              "        vertical-align: top;\n",
              "    }\n",
              "\n",
              "    .dataframe thead th {\n",
              "        text-align: right;\n",
              "    }\n",
              "</style>\n",
              "<table border=\"1\" class=\"dataframe\">\n",
              "  <thead>\n",
              "    <tr style=\"text-align: right;\">\n",
              "      <th></th>\n",
              "      <th>review</th>\n",
              "      <th>label</th>\n",
              "    </tr>\n",
              "  </thead>\n",
              "  <tbody>\n",
              "    <tr>\n",
              "      <th>0</th>\n",
              "      <td>kalau bisa di perbarui lagi</td>\n",
              "      <td>1.0</td>\n",
              "    </tr>\n",
              "    <tr>\n",
              "      <th>1</th>\n",
              "      <td>KEREN!!!</td>\n",
              "      <td>-1.0</td>\n",
              "    </tr>\n",
              "    <tr>\n",
              "      <th>2</th>\n",
              "      <td>Kalo yang udah daftar terus di login pake facebook gampang,,, tapi kok quipper sekarang makin jelek</td>\n",
              "      <td>-1.0</td>\n",
              "    </tr>\n",
              "    <tr>\n",
              "      <th>3</th>\n",
              "      <td>Kode kelas tidak di temukan gimana nh min??? Dan untuk smk di tambah dong!!!!</td>\n",
              "      <td>-1.0</td>\n",
              "    </tr>\n",
              "    <tr>\n",
              "      <th>4</th>\n",
              "      <td>hai quipper video 😊 , saya ingin memberi masukan, lebih baik video yang sudah di unduh dan di si...</td>\n",
              "      <td>-1.0</td>\n",
              "    </tr>\n",
              "    <tr>\n",
              "      <th>...</th>\n",
              "      <td>...</td>\n",
              "      <td>...</td>\n",
              "    </tr>\n",
              "    <tr>\n",
              "      <th>1282</th>\n",
              "      <td>Gimana cara masukin soal?</td>\n",
              "      <td>-1.0</td>\n",
              "    </tr>\n",
              "    <tr>\n",
              "      <th>1283</th>\n",
              "      <td>Amit jangan donwlod nyesel</td>\n",
              "      <td>1.0</td>\n",
              "    </tr>\n",
              "    <tr>\n",
              "      <th>1284</th>\n",
              "      <td>cari kode kelasnya dimanaaa..</td>\n",
              "      <td>-1.0</td>\n",
              "    </tr>\n",
              "    <tr>\n",
              "      <th>1285</th>\n",
              "      <td>Harus bayar paketnya</td>\n",
              "      <td>-1.0</td>\n",
              "    </tr>\n",
              "    <tr>\n",
              "      <th>1286</th>\n",
              "      <td>Cara nya bagaimana ya?</td>\n",
              "      <td>-1.0</td>\n",
              "    </tr>\n",
              "  </tbody>\n",
              "</table>\n",
              "<p>1287 rows × 2 columns</p>\n",
              "</div>"
            ],
            "text/plain": [
              "                                                                                                   review  label\n",
              "0                                                                             kalau bisa di perbarui lagi    1.0\n",
              "1                                                                                                KEREN!!!   -1.0\n",
              "2     Kalo yang udah daftar terus di login pake facebook gampang,,, tapi kok quipper sekarang makin jelek   -1.0\n",
              "3                           Kode kelas tidak di temukan gimana nh min??? Dan untuk smk di tambah dong!!!!   -1.0\n",
              "4     hai quipper video 😊 , saya ingin memberi masukan, lebih baik video yang sudah di unduh dan di si...   -1.0\n",
              "...                                                                                                   ...    ...\n",
              "1282                                                                            Gimana cara masukin soal?   -1.0\n",
              "1283                                                                           Amit jangan donwlod nyesel    1.0\n",
              "1284                                                                        cari kode kelasnya dimanaaa..   -1.0\n",
              "1285                                                                                 Harus bayar paketnya   -1.0\n",
              "1286                                                                               Cara nya bagaimana ya?   -1.0\n",
              "\n",
              "[1287 rows x 2 columns]"
            ]
          },
          "metadata": {
            "tags": []
          },
          "execution_count": 102
        }
      ]
    },
    {
      "cell_type": "code",
      "metadata": {
        "colab": {
          "base_uri": "https://localhost:8080/"
        },
        "id": "xo7qOYKl4ol4",
        "outputId": "24a6b87a-54aa-4af4-8b62-ed6777990484"
      },
      "source": [
        "new_data['label'].value_counts()"
      ],
      "execution_count": null,
      "outputs": [
        {
          "output_type": "execute_result",
          "data": {
            "text/plain": [
              "-1.0    954\n",
              " 1.0    333\n",
              "Name: label, dtype: int64"
            ]
          },
          "metadata": {
            "tags": []
          },
          "execution_count": 103
        }
      ]
    },
    {
      "cell_type": "code",
      "metadata": {
        "colab": {
          "base_uri": "https://localhost:8080/",
          "height": 295
        },
        "id": "A4ydJEL841BH",
        "outputId": "abbab4d3-187f-4c61-f771-7448916fbcda"
      },
      "source": [
        "labels = ['Positive','Negative']\n",
        "Category1 = ['333','954']\n",
        "plt.pie(Category1, labels=labels, autopct='%1.2f%%', colors=['coral', 'c'])\n",
        "plt.xlabel('Kelas Sentimen')\n",
        "plt.ylabel('Data')\n",
        "plt.title('Diagram Lingkaran Data Analisis Sentimen')"
      ],
      "execution_count": null,
      "outputs": [
        {
          "output_type": "execute_result",
          "data": {
            "text/plain": [
              "Text(0.5, 1.0, 'Diagram Lingkaran Data Analisis Sentimen')"
            ]
          },
          "metadata": {
            "tags": []
          },
          "execution_count": 104
        },
        {
          "output_type": "display_data",
          "data": {
            "image/png": "[encoded data removed]",
            "text/plain": [
              "<Figure size 432x288 with 1 Axes>"
            ]
          },
          "metadata": {
            "tags": []
          }
        }
      ]
    }
  ]
}