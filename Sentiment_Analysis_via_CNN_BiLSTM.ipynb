{
  "nbformat": 4,
  "nbformat_minor": 0,
  "metadata": {
    "colab": {
      "name": "Sentiment Analysis via CNN-BiLSTM",
      "provenance": [],
      "collapsed_sections": [
        "EtPf_tq58On8",
        "vtwDcAI7p-2w",
        "5zf9tuYrO98G"
      ]
    },
    "kernelspec": {
      "name": "python3",
      "display_name": "Python 3"
    },
    "language_info": {
      "name": "python"
    },
    "accelerator": "GPU"
  },
  "cells": [
    {
      "cell_type": "markdown",
      "source": [
        "The goal of this project is to develop a model that can classify sentiments from reviews of educational technology platforms. The data provided comes from a Google Play Store review of the Quipper app."
      ],
      "metadata": {
        "id": "xhb9FTRKDzaG"
      }
    },
    {
      "cell_type": "code",
      "metadata": {
        "colab": {
          "base_uri": "https://localhost:8080/"
        },
        "id": "SD72jUanJe2Y",
        "outputId": "47dd88a0-0116-4b5f-9e4d-efe87b6dce4c"
      },
      "source": [
        "pip install -q -U keras-tuner"
      ],
      "execution_count": 1,
      "outputs": [
        {
          "output_type": "stream",
          "name": "stdout",
          "text": [
            "\u001b[?25l\r\u001b[K     |███▍                            | 10 kB 17.4 MB/s eta 0:00:01\r\u001b[K     |██████▊                         | 20 kB 8.7 MB/s eta 0:00:01\r\u001b[K     |██████████                      | 30 kB 5.1 MB/s eta 0:00:01\r\u001b[K     |█████████████▍                  | 40 kB 4.7 MB/s eta 0:00:01\r\u001b[K     |████████████████▊               | 51 kB 4.6 MB/s eta 0:00:01\r\u001b[K     |████████████████████            | 61 kB 4.8 MB/s eta 0:00:01\r\u001b[K     |███████████████████████▍        | 71 kB 4.5 MB/s eta 0:00:01\r\u001b[K     |██████████████████████████▊     | 81 kB 5.0 MB/s eta 0:00:01\r\u001b[K     |██████████████████████████████  | 92 kB 5.2 MB/s eta 0:00:01\r\u001b[K     |████████████████████████████████| 98 kB 2.5 MB/s \n",
            "\u001b[?25h"
          ]
        }
      ]
    },
    {
      "cell_type": "code",
      "metadata": {
        "id": "HKzeW_12-K3I",
        "colab": {
          "base_uri": "https://localhost:8080/"
        },
        "outputId": "f6e295d5-d4a2-4888-9cb6-56b82503f0ba"
      },
      "source": [
        "import numpy as np\n",
        "import pandas as pd\n",
        "import re\n",
        "from sklearn.model_selection import train_test_split, StratifiedKFold, cross_val_score, GridSearchCV\n",
        "import tensorflow as tf\n",
        "import keras\n",
        "from keras.layers import LSTM\n",
        "from keras.preprocessing import text\n",
        "from sklearn.svm import SVC\n",
        "from sklearn import metrics\n",
        "from sklearn.metrics import confusion_matrix, ConfusionMatrixDisplay\n",
        "import matplotlib.pyplot as plt\n",
        "from tensorflow import keras\n",
        "from kerastuner.tuners import BayesianOptimization\n",
        "import nltk\n",
        "nltk.download('stopwords')\n",
        "from nltk.corpus import stopwords"
      ],
      "execution_count": 16,
      "outputs": [
        {
          "output_type": "stream",
          "name": "stdout",
          "text": [
            "[nltk_data] Downloading package stopwords to /root/nltk_data...\n",
            "[nltk_data]   Package stopwords is already up-to-date!\n"
          ]
        }
      ]
    },
    {
      "cell_type": "markdown",
      "metadata": {
        "id": "EtPf_tq58On8"
      },
      "source": [
        "# **Upload Data**"
      ]
    },
    {
      "cell_type": "code",
      "metadata": {
        "id": "3TUG0FYF8N9I"
      },
      "source": [
        "quipper_df = pd.read_csv('https://raw.githubusercontent.com/Syamsyuriani/Data-Scrapping/main/Quipper-Data_labelled.csv')"
      ],
      "execution_count": 3,
      "outputs": []
    },
    {
      "cell_type": "code",
      "metadata": {
        "colab": {
          "base_uri": "https://localhost:8080/"
        },
        "id": "OnrRJAkwQd2S",
        "outputId": "04d2083b-6928-47a9-edd1-365792afe91d"
      },
      "source": [
        "quipper_df.columns"
      ],
      "execution_count": 4,
      "outputs": [
        {
          "output_type": "execute_result",
          "data": {
            "text/plain": [
              "Index(['review', 'label', 'Unnamed: 2', 'Unnamed: 3'], dtype='object')"
            ]
          },
          "metadata": {},
          "execution_count": 4
        }
      ]
    },
    {
      "cell_type": "code",
      "metadata": {
        "colab": {
          "base_uri": "https://localhost:8080/",
          "height": 424
        },
        "id": "kBp4zeUau8ce",
        "outputId": "055ed6c9-e443-4394-f958-acf251c41183"
      },
      "source": [
        "review = quipper_df.drop(columns=['Unnamed: 2', 'Unnamed: 3'])\n",
        "review"
      ],
      "execution_count": 5,
      "outputs": [
        {
          "output_type": "execute_result",
          "data": {
            "text/html": [
              "\n",
              "  <div id=\"df-25af8fcc-eaae-4499-8a92-b0347c7060a9\">\n",
              "    <div class=\"colab-df-container\">\n",
              "      <div>\n",
              "<style scoped>\n",
              "    .dataframe tbody tr th:only-of-type {\n",
              "        vertical-align: middle;\n",
              "    }\n",
              "\n",
              "    .dataframe tbody tr th {\n",
              "        vertical-align: top;\n",
              "    }\n",
              "\n",
              "    .dataframe thead th {\n",
              "        text-align: right;\n",
              "    }\n",
              "</style>\n",
              "<table border=\"1\" class=\"dataframe\">\n",
              "  <thead>\n",
              "    <tr style=\"text-align: right;\">\n",
              "      <th></th>\n",
              "      <th>review</th>\n",
              "      <th>label</th>\n",
              "    </tr>\n",
              "  </thead>\n",
              "  <tbody>\n",
              "    <tr>\n",
              "      <th>0</th>\n",
              "      <td>Apk Quipper sangat membantu dalam memahami pel...</td>\n",
              "      <td>-1</td>\n",
              "    </tr>\n",
              "    <tr>\n",
              "      <th>1</th>\n",
              "      <td>Penjelasannya bagus, tutornya juga enak ngejel...</td>\n",
              "      <td>-1</td>\n",
              "    </tr>\n",
              "    <tr>\n",
              "      <th>2</th>\n",
              "      <td>Tolong dong quipper, saya lagi ngerjain soal a...</td>\n",
              "      <td>-1</td>\n",
              "    </tr>\n",
              "    <tr>\n",
              "      <th>3</th>\n",
              "      <td>Banyak bug. klo matematika, fisika, kimia ,Jaw...</td>\n",
              "      <td>-1</td>\n",
              "    </tr>\n",
              "    <tr>\n",
              "      <th>4</th>\n",
              "      <td>Aplikasinya kurang menarik, pembahasan nya lam...</td>\n",
              "      <td>-1</td>\n",
              "    </tr>\n",
              "    <tr>\n",
              "      <th>...</th>\n",
              "      <td>...</td>\n",
              "      <td>...</td>\n",
              "    </tr>\n",
              "    <tr>\n",
              "      <th>6074</th>\n",
              "      <td>Gimana cara masukin soal?</td>\n",
              "      <td>-1</td>\n",
              "    </tr>\n",
              "    <tr>\n",
              "      <th>6075</th>\n",
              "      <td>Amit jangan donwlod nyesel</td>\n",
              "      <td>-1</td>\n",
              "    </tr>\n",
              "    <tr>\n",
              "      <th>6076</th>\n",
              "      <td>cari kode kelasnya dimanaaa..</td>\n",
              "      <td>-1</td>\n",
              "    </tr>\n",
              "    <tr>\n",
              "      <th>6077</th>\n",
              "      <td>Harus bayar paketnya</td>\n",
              "      <td>-1</td>\n",
              "    </tr>\n",
              "    <tr>\n",
              "      <th>6078</th>\n",
              "      <td>Cara nya bagaimana ya?</td>\n",
              "      <td>-1</td>\n",
              "    </tr>\n",
              "  </tbody>\n",
              "</table>\n",
              "<p>6079 rows × 2 columns</p>\n",
              "</div>\n",
              "      <button class=\"colab-df-convert\" onclick=\"convertToInteractive('df-25af8fcc-eaae-4499-8a92-b0347c7060a9')\"\n",
              "              title=\"Convert this dataframe to an interactive table.\"\n",
              "              style=\"display:none;\">\n",
              "        \n",
              "  <svg xmlns=\"http://www.w3.org/2000/svg\" height=\"24px\"viewBox=\"0 0 24 24\"\n",
              "       width=\"24px\">\n",
              "    <path d=\"M0 0h24v24H0V0z\" fill=\"none\"/>\n",
              "    <path d=\"M18.56 5.44l.94 2.06.94-2.06 2.06-.94-2.06-.94-.94-2.06-.94 2.06-2.06.94zm-11 1L8.5 8.5l.94-2.06 2.06-.94-2.06-.94L8.5 2.5l-.94 2.06-2.06.94zm10 10l.94 2.06.94-2.06 2.06-.94-2.06-.94-.94-2.06-.94 2.06-2.06.94z\"/><path d=\"M17.41 7.96l-1.37-1.37c-.4-.4-.92-.59-1.43-.59-.52 0-1.04.2-1.43.59L10.3 9.45l-7.72 7.72c-.78.78-.78 2.05 0 2.83L4 21.41c.39.39.9.59 1.41.59.51 0 1.02-.2 1.41-.59l7.78-7.78 2.81-2.81c.8-.78.8-2.07 0-2.86zM5.41 20L4 18.59l7.72-7.72 1.47 1.35L5.41 20z\"/>\n",
              "  </svg>\n",
              "      </button>\n",
              "      \n",
              "  <style>\n",
              "    .colab-df-container {\n",
              "      display:flex;\n",
              "      flex-wrap:wrap;\n",
              "      gap: 12px;\n",
              "    }\n",
              "\n",
              "    .colab-df-convert {\n",
              "      background-color: #E8F0FE;\n",
              "      border: none;\n",
              "      border-radius: 50%;\n",
              "      cursor: pointer;\n",
              "      display: none;\n",
              "      fill: #1967D2;\n",
              "      height: 32px;\n",
              "      padding: 0 0 0 0;\n",
              "      width: 32px;\n",
              "    }\n",
              "\n",
              "    .colab-df-convert:hover {\n",
              "      background-color: #E2EBFA;\n",
              "      box-shadow: 0px 1px 2px rgba(60, 64, 67, 0.3), 0px 1px 3px 1px rgba(60, 64, 67, 0.15);\n",
              "      fill: #174EA6;\n",
              "    }\n",
              "\n",
              "    [theme=dark] .colab-df-convert {\n",
              "      background-color: #3B4455;\n",
              "      fill: #D2E3FC;\n",
              "    }\n",
              "\n",
              "    [theme=dark] .colab-df-convert:hover {\n",
              "      background-color: #434B5C;\n",
              "      box-shadow: 0px 1px 3px 1px rgba(0, 0, 0, 0.15);\n",
              "      filter: drop-shadow(0px 1px 2px rgba(0, 0, 0, 0.3));\n",
              "      fill: #FFFFFF;\n",
              "    }\n",
              "  </style>\n",
              "\n",
              "      <script>\n",
              "        const buttonEl =\n",
              "          document.querySelector('#df-25af8fcc-eaae-4499-8a92-b0347c7060a9 button.colab-df-convert');\n",
              "        buttonEl.style.display =\n",
              "          google.colab.kernel.accessAllowed ? 'block' : 'none';\n",
              "\n",
              "        async function convertToInteractive(key) {\n",
              "          const element = document.querySelector('#df-25af8fcc-eaae-4499-8a92-b0347c7060a9');\n",
              "          const dataTable =\n",
              "            await google.colab.kernel.invokeFunction('convertToInteractive',\n",
              "                                                     [key], {});\n",
              "          if (!dataTable) return;\n",
              "\n",
              "          const docLinkHtml = 'Like what you see? Visit the ' +\n",
              "            '<a target=\"_blank\" href=https://colab.research.google.com/notebooks/data_table.ipynb>data table notebook</a>'\n",
              "            + ' to learn more about interactive tables.';\n",
              "          element.innerHTML = '';\n",
              "          dataTable['output_type'] = 'display_data';\n",
              "          await google.colab.output.renderOutput(dataTable, element);\n",
              "          const docLink = document.createElement('div');\n",
              "          docLink.innerHTML = docLinkHtml;\n",
              "          element.appendChild(docLink);\n",
              "        }\n",
              "      </script>\n",
              "    </div>\n",
              "  </div>\n",
              "  "
            ],
            "text/plain": [
              "                                                 review  label\n",
              "0     Apk Quipper sangat membantu dalam memahami pel...     -1\n",
              "1     Penjelasannya bagus, tutornya juga enak ngejel...     -1\n",
              "2     Tolong dong quipper, saya lagi ngerjain soal a...     -1\n",
              "3     Banyak bug. klo matematika, fisika, kimia ,Jaw...     -1\n",
              "4     Aplikasinya kurang menarik, pembahasan nya lam...     -1\n",
              "...                                                 ...    ...\n",
              "6074                          Gimana cara masukin soal?     -1\n",
              "6075                         Amit jangan donwlod nyesel     -1\n",
              "6076                      cari kode kelasnya dimanaaa..     -1\n",
              "6077                               Harus bayar paketnya     -1\n",
              "6078                             Cara nya bagaimana ya?     -1\n",
              "\n",
              "[6079 rows x 2 columns]"
            ]
          },
          "metadata": {},
          "execution_count": 5
        }
      ]
    },
    {
      "cell_type": "code",
      "metadata": {
        "colab": {
          "base_uri": "https://localhost:8080/",
          "height": 424
        },
        "id": "QDGV8CGCAtcm",
        "outputId": "e89b8354-908e-405f-b468-58b412313069"
      },
      "source": [
        "# Remove duplicates\n",
        "dt = review.drop_duplicates(subset=['review'], keep='last', inplace=False).reset_index()\n",
        "df = dt.drop(['index'], axis=1)\n",
        "df['label'] = df['label'].replace(-1,0)\n",
        "df"
      ],
      "execution_count": 6,
      "outputs": [
        {
          "output_type": "execute_result",
          "data": {
            "text/html": [
              "\n",
              "  <div id=\"df-9ef6d126-b6c1-4465-97fc-31060a4bd1ec\">\n",
              "    <div class=\"colab-df-container\">\n",
              "      <div>\n",
              "<style scoped>\n",
              "    .dataframe tbody tr th:only-of-type {\n",
              "        vertical-align: middle;\n",
              "    }\n",
              "\n",
              "    .dataframe tbody tr th {\n",
              "        vertical-align: top;\n",
              "    }\n",
              "\n",
              "    .dataframe thead th {\n",
              "        text-align: right;\n",
              "    }\n",
              "</style>\n",
              "<table border=\"1\" class=\"dataframe\">\n",
              "  <thead>\n",
              "    <tr style=\"text-align: right;\">\n",
              "      <th></th>\n",
              "      <th>review</th>\n",
              "      <th>label</th>\n",
              "    </tr>\n",
              "  </thead>\n",
              "  <tbody>\n",
              "    <tr>\n",
              "      <th>0</th>\n",
              "      <td>Apk Quipper sangat membantu dalam memahami pel...</td>\n",
              "      <td>0</td>\n",
              "    </tr>\n",
              "    <tr>\n",
              "      <th>1</th>\n",
              "      <td>Penjelasannya bagus, tutornya juga enak ngejel...</td>\n",
              "      <td>0</td>\n",
              "    </tr>\n",
              "    <tr>\n",
              "      <th>2</th>\n",
              "      <td>Tolong dong quipper, saya lagi ngerjain soal a...</td>\n",
              "      <td>0</td>\n",
              "    </tr>\n",
              "    <tr>\n",
              "      <th>3</th>\n",
              "      <td>Banyak bug. klo matematika, fisika, kimia ,Jaw...</td>\n",
              "      <td>0</td>\n",
              "    </tr>\n",
              "    <tr>\n",
              "      <th>4</th>\n",
              "      <td>Aplikasinya kurang menarik, pembahasan nya lam...</td>\n",
              "      <td>0</td>\n",
              "    </tr>\n",
              "    <tr>\n",
              "      <th>...</th>\n",
              "      <td>...</td>\n",
              "      <td>...</td>\n",
              "    </tr>\n",
              "    <tr>\n",
              "      <th>4682</th>\n",
              "      <td>Gimana cara masukin soal?</td>\n",
              "      <td>0</td>\n",
              "    </tr>\n",
              "    <tr>\n",
              "      <th>4683</th>\n",
              "      <td>Amit jangan donwlod nyesel</td>\n",
              "      <td>0</td>\n",
              "    </tr>\n",
              "    <tr>\n",
              "      <th>4684</th>\n",
              "      <td>cari kode kelasnya dimanaaa..</td>\n",
              "      <td>0</td>\n",
              "    </tr>\n",
              "    <tr>\n",
              "      <th>4685</th>\n",
              "      <td>Harus bayar paketnya</td>\n",
              "      <td>0</td>\n",
              "    </tr>\n",
              "    <tr>\n",
              "      <th>4686</th>\n",
              "      <td>Cara nya bagaimana ya?</td>\n",
              "      <td>0</td>\n",
              "    </tr>\n",
              "  </tbody>\n",
              "</table>\n",
              "<p>4687 rows × 2 columns</p>\n",
              "</div>\n",
              "      <button class=\"colab-df-convert\" onclick=\"convertToInteractive('df-9ef6d126-b6c1-4465-97fc-31060a4bd1ec')\"\n",
              "              title=\"Convert this dataframe to an interactive table.\"\n",
              "              style=\"display:none;\">\n",
              "        \n",
              "  <svg xmlns=\"http://www.w3.org/2000/svg\" height=\"24px\"viewBox=\"0 0 24 24\"\n",
              "       width=\"24px\">\n",
              "    <path d=\"M0 0h24v24H0V0z\" fill=\"none\"/>\n",
              "    <path d=\"M18.56 5.44l.94 2.06.94-2.06 2.06-.94-2.06-.94-.94-2.06-.94 2.06-2.06.94zm-11 1L8.5 8.5l.94-2.06 2.06-.94-2.06-.94L8.5 2.5l-.94 2.06-2.06.94zm10 10l.94 2.06.94-2.06 2.06-.94-2.06-.94-.94-2.06-.94 2.06-2.06.94z\"/><path d=\"M17.41 7.96l-1.37-1.37c-.4-.4-.92-.59-1.43-.59-.52 0-1.04.2-1.43.59L10.3 9.45l-7.72 7.72c-.78.78-.78 2.05 0 2.83L4 21.41c.39.39.9.59 1.41.59.51 0 1.02-.2 1.41-.59l7.78-7.78 2.81-2.81c.8-.78.8-2.07 0-2.86zM5.41 20L4 18.59l7.72-7.72 1.47 1.35L5.41 20z\"/>\n",
              "  </svg>\n",
              "      </button>\n",
              "      \n",
              "  <style>\n",
              "    .colab-df-container {\n",
              "      display:flex;\n",
              "      flex-wrap:wrap;\n",
              "      gap: 12px;\n",
              "    }\n",
              "\n",
              "    .colab-df-convert {\n",
              "      background-color: #E8F0FE;\n",
              "      border: none;\n",
              "      border-radius: 50%;\n",
              "      cursor: pointer;\n",
              "      display: none;\n",
              "      fill: #1967D2;\n",
              "      height: 32px;\n",
              "      padding: 0 0 0 0;\n",
              "      width: 32px;\n",
              "    }\n",
              "\n",
              "    .colab-df-convert:hover {\n",
              "      background-color: #E2EBFA;\n",
              "      box-shadow: 0px 1px 2px rgba(60, 64, 67, 0.3), 0px 1px 3px 1px rgba(60, 64, 67, 0.15);\n",
              "      fill: #174EA6;\n",
              "    }\n",
              "\n",
              "    [theme=dark] .colab-df-convert {\n",
              "      background-color: #3B4455;\n",
              "      fill: #D2E3FC;\n",
              "    }\n",
              "\n",
              "    [theme=dark] .colab-df-convert:hover {\n",
              "      background-color: #434B5C;\n",
              "      box-shadow: 0px 1px 3px 1px rgba(0, 0, 0, 0.15);\n",
              "      filter: drop-shadow(0px 1px 2px rgba(0, 0, 0, 0.3));\n",
              "      fill: #FFFFFF;\n",
              "    }\n",
              "  </style>\n",
              "\n",
              "      <script>\n",
              "        const buttonEl =\n",
              "          document.querySelector('#df-9ef6d126-b6c1-4465-97fc-31060a4bd1ec button.colab-df-convert');\n",
              "        buttonEl.style.display =\n",
              "          google.colab.kernel.accessAllowed ? 'block' : 'none';\n",
              "\n",
              "        async function convertToInteractive(key) {\n",
              "          const element = document.querySelector('#df-9ef6d126-b6c1-4465-97fc-31060a4bd1ec');\n",
              "          const dataTable =\n",
              "            await google.colab.kernel.invokeFunction('convertToInteractive',\n",
              "                                                     [key], {});\n",
              "          if (!dataTable) return;\n",
              "\n",
              "          const docLinkHtml = 'Like what you see? Visit the ' +\n",
              "            '<a target=\"_blank\" href=https://colab.research.google.com/notebooks/data_table.ipynb>data table notebook</a>'\n",
              "            + ' to learn more about interactive tables.';\n",
              "          element.innerHTML = '';\n",
              "          dataTable['output_type'] = 'display_data';\n",
              "          await google.colab.output.renderOutput(dataTable, element);\n",
              "          const docLink = document.createElement('div');\n",
              "          docLink.innerHTML = docLinkHtml;\n",
              "          element.appendChild(docLink);\n",
              "        }\n",
              "      </script>\n",
              "    </div>\n",
              "  </div>\n",
              "  "
            ],
            "text/plain": [
              "                                                 review  label\n",
              "0     Apk Quipper sangat membantu dalam memahami pel...      0\n",
              "1     Penjelasannya bagus, tutornya juga enak ngejel...      0\n",
              "2     Tolong dong quipper, saya lagi ngerjain soal a...      0\n",
              "3     Banyak bug. klo matematika, fisika, kimia ,Jaw...      0\n",
              "4     Aplikasinya kurang menarik, pembahasan nya lam...      0\n",
              "...                                                 ...    ...\n",
              "4682                          Gimana cara masukin soal?      0\n",
              "4683                         Amit jangan donwlod nyesel      0\n",
              "4684                      cari kode kelasnya dimanaaa..      0\n",
              "4685                               Harus bayar paketnya      0\n",
              "4686                             Cara nya bagaimana ya?      0\n",
              "\n",
              "[4687 rows x 2 columns]"
            ]
          },
          "metadata": {},
          "execution_count": 6
        }
      ]
    },
    {
      "cell_type": "code",
      "metadata": {
        "colab": {
          "base_uri": "https://localhost:8080/"
        },
        "id": "QrwznBzTIVY5",
        "outputId": "2cd28887-fc2d-4705-d0f2-610f7f3b754a"
      },
      "source": [
        "df['label'].value_counts()"
      ],
      "execution_count": 7,
      "outputs": [
        {
          "output_type": "execute_result",
          "data": {
            "text/plain": [
              "0    2991\n",
              "1    1696\n",
              "Name: label, dtype: int64"
            ]
          },
          "metadata": {},
          "execution_count": 7
        }
      ]
    },
    {
      "cell_type": "code",
      "metadata": {
        "colab": {
          "base_uri": "https://localhost:8080/",
          "height": 281
        },
        "id": "TP8hDNYUEwyA",
        "outputId": "908fe1b1-1daf-407b-dea5-0582e54b82ed"
      },
      "source": [
        "labels = ['Positive','Negative']\n",
        "Category1 = [df['label'].value_counts()[1],df['label'].value_counts()[0]]\n",
        "plt.pie(Category1, labels=labels, autopct='%1.2f%%', colors=['coral', 'c'])\n",
        "plt.title('Sentiment Class Distribution')"
      ],
      "execution_count": 8,
      "outputs": [
        {
          "output_type": "execute_result",
          "data": {
            "text/plain": [
              "Text(0.5, 1.0, 'Sentiment Class Distribution')"
            ]
          },
          "metadata": {},
          "execution_count": 8
        },
        {
          "output_type": "display_data",
          "data": {
            "image/png": "[encoded data removed]",
            "text/plain": [
              "<Figure size 432x288 with 1 Axes>"
            ]
          },
          "metadata": {}
        }
      ]
    },
    {
      "cell_type": "markdown",
      "metadata": {
        "id": "vtwDcAI7p-2w"
      },
      "source": [
        "# ***Pre-processing***"
      ]
    },
    {
      "cell_type": "markdown",
      "source": [
        "Before entering the model, all data sets including a collection of text and sentiment labels are processed. The text on the data must go through four phases of preprocessing, as follows.\n",
        "\n",
        "\n",
        "1.   **Data Cleaning**: Capital letters are changed to lowercase, the website address, username, hashtag, punctuation, numbers, and extra spaces are removed, repeating words are separated by removing the dash, letters that are repeated more than twice are deleted into just two times, words with a single letter are deleted, remove stopwords, and the 'rt' is deleted.\n",
        "2.   **Data tokenization** is the process of splitting words in sentences into word collections based on their spaces.\n",
        "3.   **Data sequencing** is the numerical representation of each word based on the order in which it appears in the data, results in a vector representation.\n",
        "4.   **Data Padding**: Adjusting the length of a representation vector to another sentence representation vector.\n",
        "\n",
        "Furthermore, the data is divided into training data and test data. We divide the data into 80% training data and 20% test data.\n"
      ],
      "metadata": {
        "id": "iQg-S4OpP0B-"
      }
    },
    {
      "cell_type": "code",
      "metadata": {
        "id": "t3z8tm6dtP25"
      },
      "source": [
        "# Data Cleaning\n",
        "stop = list(stopwords.words('indonesian'))\n",
        "stop = np.append(stopwords, \"rt\")\n",
        " \n",
        "def clean_text(tweet):\n",
        " \n",
        "    # Convert to lower case\n",
        "    tweet = tweet.lower()\n",
        "    # Clean www.* or https?://*\n",
        "    tweet = re.sub('((www\\.[^\\s]+)|(https?://[^\\s]+))','',tweet)\n",
        "    # Clean @username\n",
        "    tweet = re.sub('@[^\\s]+','',tweet)\n",
        "    #Remove punctuation\n",
        "    tweet = re.sub(r'[^\\w\\s]',' ', tweet)\n",
        "    #Replace #word with word\n",
        "    tweet = re.sub(r'#([^\\s]+)', r'\\1', tweet)\n",
        "    #Remove punctuation\n",
        "    tweet = re.sub(r'[^\\w\\s]',' ', tweet)\n",
        "    #Clean number\n",
        "    tweet = re.sub(r'[\\d-]', '', tweet)\n",
        "    #Remove additional white spaces\n",
        "    tweet = re.sub('[\\s]+', ' ', tweet)\n",
        "    #trim\n",
        "    tweet = tweet.strip('\\'\"')\n",
        "    # Clean per Words\n",
        "    words = tweet.split()\n",
        "    tokens=[]\n",
        "    for ww in words:\n",
        "        #split repeated word\n",
        "        for w in re.split(r'[-/\\s]\\s*', ww):\n",
        "            #replace two or more with two occurrences\n",
        "            pattern = re.compile(r\"(.)\\1{1,}\", re.DOTALL)\n",
        "            w = pattern.sub(r\"\\1\\1\", w)\n",
        "            #strip punctuation\n",
        "            w = w.strip('\\'\"?,.')\n",
        "            #check if the word cosists of two or more alphabets\n",
        "            val = re.search(r\"^[a-zA-Z][a-zA-Z][a-zA-Z]*$\", w)\n",
        "            #add tokens\n",
        "            if(w in stop or val is None):\n",
        "                continue\n",
        "            else:\n",
        "                tokens.append(w.lower())\n",
        "    \n",
        "    tweet = \" \".join(tokens)\n",
        "    return tweet"
      ],
      "execution_count": 9,
      "outputs": []
    },
    {
      "cell_type": "code",
      "metadata": {
        "colab": {
          "base_uri": "https://localhost:8080/",
          "height": 424
        },
        "id": "ly4Xr6edIjj9",
        "outputId": "f4179055-8089-4353-d39b-0c0bd75a369b"
      },
      "source": [
        "df['review'] = df['review'].map(lambda x: clean_text(x))\n",
        "df = df[df['review'].apply(lambda x: len(x.split()) >=1)]\n",
        "df"
      ],
      "execution_count": 10,
      "outputs": [
        {
          "output_type": "execute_result",
          "data": {
            "text/html": [
              "\n",
              "  <div id=\"df-38903c55-6c7a-4710-b52b-5deab9aa81ba\">\n",
              "    <div class=\"colab-df-container\">\n",
              "      <div>\n",
              "<style scoped>\n",
              "    .dataframe tbody tr th:only-of-type {\n",
              "        vertical-align: middle;\n",
              "    }\n",
              "\n",
              "    .dataframe tbody tr th {\n",
              "        vertical-align: top;\n",
              "    }\n",
              "\n",
              "    .dataframe thead th {\n",
              "        text-align: right;\n",
              "    }\n",
              "</style>\n",
              "<table border=\"1\" class=\"dataframe\">\n",
              "  <thead>\n",
              "    <tr style=\"text-align: right;\">\n",
              "      <th></th>\n",
              "      <th>review</th>\n",
              "      <th>label</th>\n",
              "    </tr>\n",
              "  </thead>\n",
              "  <tbody>\n",
              "    <tr>\n",
              "      <th>0</th>\n",
              "      <td>apk quipper sangat membantu dalam memahami pel...</td>\n",
              "      <td>0</td>\n",
              "    </tr>\n",
              "    <tr>\n",
              "      <th>1</th>\n",
              "      <td>penjelasannya bagus tutornya juga enak ngejela...</td>\n",
              "      <td>0</td>\n",
              "    </tr>\n",
              "    <tr>\n",
              "      <th>2</th>\n",
              "      <td>tolong dong quipper saya lagi ngerjain soal at...</td>\n",
              "      <td>0</td>\n",
              "    </tr>\n",
              "    <tr>\n",
              "      <th>3</th>\n",
              "      <td>banyak bug klo matematika fisika kimia jawaban...</td>\n",
              "      <td>0</td>\n",
              "    </tr>\n",
              "    <tr>\n",
              "      <th>4</th>\n",
              "      <td>aplikasinya kurang menarik pembahasan nya lama...</td>\n",
              "      <td>0</td>\n",
              "    </tr>\n",
              "    <tr>\n",
              "      <th>...</th>\n",
              "      <td>...</td>\n",
              "      <td>...</td>\n",
              "    </tr>\n",
              "    <tr>\n",
              "      <th>4682</th>\n",
              "      <td>gimana cara masukin soal</td>\n",
              "      <td>0</td>\n",
              "    </tr>\n",
              "    <tr>\n",
              "      <th>4683</th>\n",
              "      <td>amit jangan donwlod nyesel</td>\n",
              "      <td>0</td>\n",
              "    </tr>\n",
              "    <tr>\n",
              "      <th>4684</th>\n",
              "      <td>cari kode kelasnya dimanaa</td>\n",
              "      <td>0</td>\n",
              "    </tr>\n",
              "    <tr>\n",
              "      <th>4685</th>\n",
              "      <td>harus bayar paketnya</td>\n",
              "      <td>0</td>\n",
              "    </tr>\n",
              "    <tr>\n",
              "      <th>4686</th>\n",
              "      <td>cara nya bagaimana ya</td>\n",
              "      <td>0</td>\n",
              "    </tr>\n",
              "  </tbody>\n",
              "</table>\n",
              "<p>4670 rows × 2 columns</p>\n",
              "</div>\n",
              "      <button class=\"colab-df-convert\" onclick=\"convertToInteractive('df-38903c55-6c7a-4710-b52b-5deab9aa81ba')\"\n",
              "              title=\"Convert this dataframe to an interactive table.\"\n",
              "              style=\"display:none;\">\n",
              "        \n",
              "  <svg xmlns=\"http://www.w3.org/2000/svg\" height=\"24px\"viewBox=\"0 0 24 24\"\n",
              "       width=\"24px\">\n",
              "    <path d=\"M0 0h24v24H0V0z\" fill=\"none\"/>\n",
              "    <path d=\"M18.56 5.44l.94 2.06.94-2.06 2.06-.94-2.06-.94-.94-2.06-.94 2.06-2.06.94zm-11 1L8.5 8.5l.94-2.06 2.06-.94-2.06-.94L8.5 2.5l-.94 2.06-2.06.94zm10 10l.94 2.06.94-2.06 2.06-.94-2.06-.94-.94-2.06-.94 2.06-2.06.94z\"/><path d=\"M17.41 7.96l-1.37-1.37c-.4-.4-.92-.59-1.43-.59-.52 0-1.04.2-1.43.59L10.3 9.45l-7.72 7.72c-.78.78-.78 2.05 0 2.83L4 21.41c.39.39.9.59 1.41.59.51 0 1.02-.2 1.41-.59l7.78-7.78 2.81-2.81c.8-.78.8-2.07 0-2.86zM5.41 20L4 18.59l7.72-7.72 1.47 1.35L5.41 20z\"/>\n",
              "  </svg>\n",
              "      </button>\n",
              "      \n",
              "  <style>\n",
              "    .colab-df-container {\n",
              "      display:flex;\n",
              "      flex-wrap:wrap;\n",
              "      gap: 12px;\n",
              "    }\n",
              "\n",
              "    .colab-df-convert {\n",
              "      background-color: #E8F0FE;\n",
              "      border: none;\n",
              "      border-radius: 50%;\n",
              "      cursor: pointer;\n",
              "      display: none;\n",
              "      fill: #1967D2;\n",
              "      height: 32px;\n",
              "      padding: 0 0 0 0;\n",
              "      width: 32px;\n",
              "    }\n",
              "\n",
              "    .colab-df-convert:hover {\n",
              "      background-color: #E2EBFA;\n",
              "      box-shadow: 0px 1px 2px rgba(60, 64, 67, 0.3), 0px 1px 3px 1px rgba(60, 64, 67, 0.15);\n",
              "      fill: #174EA6;\n",
              "    }\n",
              "\n",
              "    [theme=dark] .colab-df-convert {\n",
              "      background-color: #3B4455;\n",
              "      fill: #D2E3FC;\n",
              "    }\n",
              "\n",
              "    [theme=dark] .colab-df-convert:hover {\n",
              "      background-color: #434B5C;\n",
              "      box-shadow: 0px 1px 3px 1px rgba(0, 0, 0, 0.15);\n",
              "      filter: drop-shadow(0px 1px 2px rgba(0, 0, 0, 0.3));\n",
              "      fill: #FFFFFF;\n",
              "    }\n",
              "  </style>\n",
              "\n",
              "      <script>\n",
              "        const buttonEl =\n",
              "          document.querySelector('#df-38903c55-6c7a-4710-b52b-5deab9aa81ba button.colab-df-convert');\n",
              "        buttonEl.style.display =\n",
              "          google.colab.kernel.accessAllowed ? 'block' : 'none';\n",
              "\n",
              "        async function convertToInteractive(key) {\n",
              "          const element = document.querySelector('#df-38903c55-6c7a-4710-b52b-5deab9aa81ba');\n",
              "          const dataTable =\n",
              "            await google.colab.kernel.invokeFunction('convertToInteractive',\n",
              "                                                     [key], {});\n",
              "          if (!dataTable) return;\n",
              "\n",
              "          const docLinkHtml = 'Like what you see? Visit the ' +\n",
              "            '<a target=\"_blank\" href=https://colab.research.google.com/notebooks/data_table.ipynb>data table notebook</a>'\n",
              "            + ' to learn more about interactive tables.';\n",
              "          element.innerHTML = '';\n",
              "          dataTable['output_type'] = 'display_data';\n",
              "          await google.colab.output.renderOutput(dataTable, element);\n",
              "          const docLink = document.createElement('div');\n",
              "          docLink.innerHTML = docLinkHtml;\n",
              "          element.appendChild(docLink);\n",
              "        }\n",
              "      </script>\n",
              "    </div>\n",
              "  </div>\n",
              "  "
            ],
            "text/plain": [
              "                                                 review  label\n",
              "0     apk quipper sangat membantu dalam memahami pel...      0\n",
              "1     penjelasannya bagus tutornya juga enak ngejela...      0\n",
              "2     tolong dong quipper saya lagi ngerjain soal at...      0\n",
              "3     banyak bug klo matematika fisika kimia jawaban...      0\n",
              "4     aplikasinya kurang menarik pembahasan nya lama...      0\n",
              "...                                                 ...    ...\n",
              "4682                           gimana cara masukin soal      0\n",
              "4683                         amit jangan donwlod nyesel      0\n",
              "4684                         cari kode kelasnya dimanaa      0\n",
              "4685                               harus bayar paketnya      0\n",
              "4686                              cara nya bagaimana ya      0\n",
              "\n",
              "[4670 rows x 2 columns]"
            ]
          },
          "metadata": {},
          "execution_count": 10
        }
      ]
    },
    {
      "cell_type": "code",
      "metadata": {
        "id": "cFxQeILgx-LG"
      },
      "source": [
        "# Data Tokenization\n",
        "tokenizer = keras.preprocessing.text.Tokenizer()\n",
        "tokenizer.fit_on_texts(df['review'])"
      ],
      "execution_count": 11,
      "outputs": []
    },
    {
      "cell_type": "code",
      "metadata": {
        "id": "-bOtaFuL0LQH"
      },
      "source": [
        "# Data Sequencing and Padding\n",
        "sequences = tokenizer.texts_to_sequences(df['review'])\n",
        "x = keras.preprocessing.sequence.pad_sequences(sequences, maxlen=80)\n",
        "y = np.array((df['label']))"
      ],
      "execution_count": 12,
      "outputs": []
    },
    {
      "cell_type": "code",
      "metadata": {
        "id": "ZimFJmjoLvCq"
      },
      "source": [
        "x_train, x_test, y_train, y_test = train_test_split(x,y, test_size = 0.2, random_state = 42)"
      ],
      "execution_count": 13,
      "outputs": []
    },
    {
      "cell_type": "code",
      "metadata": {
        "id": "DPXkGwkOceme"
      },
      "source": [
        "seq_length = x.shape[1]\n",
        "vocab_size = len(tokenizer.index_word) + 1"
      ],
      "execution_count": 14,
      "outputs": []
    },
    {
      "cell_type": "markdown",
      "metadata": {
        "id": "5zf9tuYrO98G"
      },
      "source": [
        "# **Model Building**"
      ]
    },
    {
      "cell_type": "markdown",
      "source": [
        "In this implementation, we use **epochs 5**, **batch sizes 32**, **Adam** learning method, and **binary cross-entropy loss**. To build the model, some parameters of each model need to be optimized. Moreover, the choices of parameter for models are shown in the following table.\n",
        "\n",
        "![image.png](data:image/png;base64,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)\n",
        "\n",
        "The values in the table are optimized using the Bayesian optimization technique with a max trial of 10."
      ],
      "metadata": {
        "id": "RKcBXR9_Tlxl"
      }
    },
    {
      "cell_type": "code",
      "metadata": {
        "id": "dCtMUJeJ-rji",
        "colab": {
          "base_uri": "https://localhost:8080/"
        },
        "outputId": "90c22254-7fe4-4dc9-f5bb-5c5fc2e848c4"
      },
      "source": [
        "def cnn_bilstm(hp):\n",
        "\n",
        "    #Input layer\n",
        "    inputs = keras.layers.Input(shape=(seq_length,))\n",
        "\n",
        "    #Embedding\n",
        "    embedding = keras.layers.Embedding(input_dim = vocab_size,\n",
        "                                       output_dim = hp.Choice('embedding_size', values = [64, 100]))(inputs)\n",
        "\n",
        "    #Convolution layer\n",
        "    ngram_1 = keras.layers.Conv1D(filters = hp.Int('filters',\n",
        "                                                min_value = 32, \n",
        "                                                max_value = 512, \n",
        "                                                step = 32),\n",
        "                                  kernel_size = hp.Int('kernel_size',\n",
        "                                                min_value = 2, \n",
        "                                                max_value = 5, \n",
        "                                                step = 1),\n",
        "                                  activation='relu',\n",
        "                                  kernel_regularizer = keras.regularizers.l2(hp.Choice('kernel_cnn',\n",
        "                                                                                       values = [0.0, 0.01])))(embedding)\n",
        "    ngram_2 = keras.layers.Conv1D(filters = hp.Int('filters',\n",
        "                                                min_value = 32, \n",
        "                                                max_value = 512, \n",
        "                                                step = 32),\n",
        "                                  kernel_size = hp.Int('kernel_size',\n",
        "                                                min_value = 2, \n",
        "                                                max_value = 5, \n",
        "                                                step = 1),\n",
        "                                  activation='relu',\n",
        "                                  kernel_regularizer = keras.regularizers.l2(hp.Choice('kernel_cnn',\n",
        "                                                                                       values = [0.0, 0.01])))(embedding)\n",
        "    ngram_3 = keras.layers.Conv1D(filters = hp.Int('filters',\n",
        "                                                min_value = 32, \n",
        "                                                max_value = 512, \n",
        "                                                step = 32),\n",
        "                                  kernel_size = hp.Int('kernel_size',\n",
        "                                                min_value = 2, \n",
        "                                                max_value = 5, \n",
        "                                                step = 1),\n",
        "                                  activation='relu',\n",
        "                                  kernel_regularizer = keras.regularizers.l2(hp.Choice('kernel_cnn',\n",
        "                                                                                       values = [0.0, 0.01])))(embedding)\n",
        "    ngram_4 = keras.layers.Conv1D(filters = hp.Int('filters',\n",
        "                                                min_value = 32, \n",
        "                                                max_value = 512, \n",
        "                                                step = 32),\n",
        "                                  kernel_size = hp.Int('kernel_size',\n",
        "                                                min_value = 2, \n",
        "                                                max_value = 5, \n",
        "                                                step = 1),\n",
        "                                  activation='relu',\n",
        "                                  kernel_regularizer = keras.regularizers.l2(hp.Choice('kernel_cnn',\n",
        "                                                                                       values = [0.0, 0.01])))(embedding)\n",
        "\n",
        "    #Max Pooling layer\n",
        "    ngram_1 = keras.layers.MaxPooling1D(pool_size=2)(ngram_1)\n",
        "    ngram_2 = keras.layers.MaxPooling1D(pool_size=2)(ngram_2)\n",
        "    ngram_3 = keras.layers.MaxPooling1D(pool_size=2)(ngram_3)\n",
        "    ngram_4 = keras.layers.MaxPooling1D(pool_size=2)(ngram_4)\n",
        "    merged = keras.layers.Concatenate(axis=1)([ngram_1, ngram_2, ngram_3, ngram_4])\n",
        "\n",
        "    #BiLSTM layer\n",
        "    bilstm = keras.layers.Bidirectional(LSTM(units = hp.Int('units',\n",
        "                                                            min_value = 32,\n",
        "                                                            max_value = 512,\n",
        "                                                            step = 32),\n",
        "                                             kernel_regularizer=keras.regularizers.l2(hp.Choice('kernel_regularizer',\n",
        "                                                                                                values = [0.0, 0.01])),\n",
        "                                              recurrent_regularizer=keras.regularizers.l2(hp.Choice('rec_regularizer',\n",
        "                                                                                                    values = [0.0, 0.01]))))(merged)\n",
        "    \n",
        "    #Dropout layer\n",
        "    lstm_out = keras.layers.Dropout(0.25)(bilstm)\n",
        "\n",
        "    #Output layer\n",
        "    output = keras.layers.Dense(1, activation='sigmoid', kernel_regularizer=keras.regularizers.l2(hp.Choice('kernel_dense', values = [0.0, 0.01])))(lstm_out)\n",
        "    model = keras.models.Model(inputs=inputs, outputs=output)\n",
        "\n",
        "    model.compile(optimizer = keras.optimizers.Adam(\n",
        "                              hp.Choice('learning_rate', \n",
        "                                        values = [1e-2, 1e-3, 1e-4])),\n",
        "                              loss='binary_crossentropy',\n",
        "                              metrics=['accuracy'])\n",
        "\n",
        "    return model\n",
        "\n",
        "tuner = BayesianOptimization(cnn_bilstm,\n",
        "                             objective = 'val_accuracy', \n",
        "                             max_trials = 10,\n",
        "                             directory = 'Hasil',\n",
        "                             project_name = 'Sentimen_CNN-BiLSTM')\n",
        "\n",
        "tuner.search(x_train, y_train, batch_size=32, epochs = 5, validation_data = (x_test, y_test))\n",
        "\n",
        "# Get the optimal hyperparameters\n",
        "best_hps = tuner.get_best_hyperparameters()[0]\n",
        "\n",
        "print('\\nThe hyperparameter search is complete. \\nembedding_size:', best_hps.get('embedding_size'),\n",
        "      '\\nfilters:', {best_hps.get('filters')},\n",
        "      '\\nkernel_size:', best_hps.get('kernel_size'),\n",
        "      '\\nkernel_cnn:', best_hps.get('kernel_cnn'),\n",
        "      '\\nunit:', best_hps.get('units'),\n",
        "      '\\nkernel_regularizer:', best_hps.get('kernel_regularizer'),\n",
        "      '\\nrec_regularizer:', best_hps.get('rec_regularizer'),\n",
        "      '\\nkernel_dense:', best_hps.get('kernel_dense'),\n",
        "      '\\nLearning rate:', best_hps.get('learning_rate'))"
      ],
      "execution_count": 17,
      "outputs": [
        {
          "output_type": "stream",
          "name": "stdout",
          "text": [
            "Trial 10 Complete [00h 03m 27s]\n",
            "val_accuracy: 0.9036402702331543\n",
            "\n",
            "Best val_accuracy So Far: 0.9036402702331543\n",
            "Total elapsed time: 00h 25m 37s\n",
            "INFO:tensorflow:Oracle triggered exit\n",
            "\n",
            "The hyperparameter search is complete. \n",
            "embedding_size: 64 \n",
            "filters: {384} \n",
            "kernel_size: 5 \n",
            "kernel_cnn: 0.0 \n",
            "unit: 512 \n",
            "kernel_regularizer: 0.0 \n",
            "rec_regularizer: 0.01 \n",
            "kernel_dense: 0.01 \n",
            "Learning rate: 0.01\n"
          ]
        }
      ]
    },
    {
      "cell_type": "markdown",
      "source": [
        "The model that has been created is illustrated in the graph below."
      ],
      "metadata": {
        "id": "AFhUG-LtU4KA"
      }
    },
    {
      "cell_type": "code",
      "metadata": {
        "colab": {
          "base_uri": "https://localhost:8080/",
          "height": 698
        },
        "id": "sGr7gMSOXFX4",
        "outputId": "58b1236f-d10a-4c63-9177-dba67b297a88"
      },
      "source": [
        "from tensorflow.keras.utils import plot_model\n",
        "\n",
        "model = tuner.hypermodel.build(best_hps)\n",
        "plot_model(model, to_file='model.png', show_shapes=True, show_layer_names=False, rankdir='TB')"
      ],
      "execution_count": 18,
      "outputs": [
        {
          "output_type": "execute_result",
          "data": {
            "image/png": "[encoded data removed]",
            "text/plain": [
              "<IPython.core.display.Image object>"
            ]
          },
          "metadata": {},
          "execution_count": 18
        }
      ]
    },
    {
      "cell_type": "markdown",
      "source": [
        "The model is then retrained with the optimized parameters. We use epoch 150, batch size 32, and early stopping with patience 5, with validation loss as the value being monitored. This process produces a model with a fairly good accuracy, which is 86.62%."
      ],
      "metadata": {
        "id": "2zZWOTcVVCij"
      }
    },
    {
      "cell_type": "code",
      "metadata": {
        "colab": {
          "base_uri": "https://localhost:8080/"
        },
        "id": "PT5xuTx3VCwO",
        "outputId": "49cc24a1-5fb8-49ad-9c82-e50d310acdf3"
      },
      "source": [
        "from keras.callbacks import EarlyStopping\n",
        "\n",
        "# Retrain model with the optimal hyperparameters\n",
        "early_stop = EarlyStopping(monitor='val_loss', patience=5)\n",
        "history = model.fit(x_train, y_train, batch_size=32, epochs = 50, validation_data = (x_test, y_test), callbacks=[early_stop])"
      ],
      "execution_count": 36,
      "outputs": [
        {
          "output_type": "stream",
          "name": "stdout",
          "text": [
            "Epoch 1/50\n",
            "117/117 [==============================] - 33s 256ms/step - loss: 0.0520 - accuracy: 0.9917 - val_loss: 0.4325 - val_accuracy: 0.8737\n",
            "Epoch 2/50\n",
            "117/117 [==============================] - 29s 246ms/step - loss: 0.0535 - accuracy: 0.9904 - val_loss: 0.4165 - val_accuracy: 0.8662\n",
            "Epoch 3/50\n",
            "117/117 [==============================] - 29s 247ms/step - loss: 0.0380 - accuracy: 0.9952 - val_loss: 0.4067 - val_accuracy: 0.8790\n",
            "Epoch 4/50\n",
            "117/117 [==============================] - 29s 248ms/step - loss: 0.0420 - accuracy: 0.9933 - val_loss: 0.4265 - val_accuracy: 0.8683\n",
            "Epoch 5/50\n",
            "117/117 [==============================] - 29s 248ms/step - loss: 0.0394 - accuracy: 0.9933 - val_loss: 0.4299 - val_accuracy: 0.8822\n",
            "Epoch 6/50\n",
            "117/117 [==============================] - 29s 247ms/step - loss: 0.0432 - accuracy: 0.9930 - val_loss: 0.4332 - val_accuracy: 0.8844\n",
            "Epoch 7/50\n",
            "117/117 [==============================] - 29s 248ms/step - loss: 0.0276 - accuracy: 0.9973 - val_loss: 0.4115 - val_accuracy: 0.8801\n",
            "Epoch 8/50\n",
            "117/117 [==============================] - 29s 247ms/step - loss: 0.0298 - accuracy: 0.9957 - val_loss: 0.4436 - val_accuracy: 0.8662\n"
          ]
        }
      ]
    },
    {
      "cell_type": "code",
      "metadata": {
        "colab": {
          "base_uri": "https://localhost:8080/",
          "height": 320
        },
        "id": "PntiZ8pfZtmL",
        "outputId": "dbf7e5f7-ddb8-459a-b5c7-0c8a210d46fa"
      },
      "source": [
        "# Plot graph loss and accuracy\n",
        "pd.DataFrame(history.history).plot(figsize=(8, 5))\n",
        "plt.grid(True)\n",
        "plt.gca().set_ylim(0,1.5)\n",
        "\n",
        "plt.show()"
      ],
      "execution_count": 37,
      "outputs": [
        {
          "output_type": "display_data",
          "data": {
            "image/png": "[encoded data removed]",
            "text/plain": [
              "<Figure size 576x360 with 1 Axes>"
            ]
          },
          "metadata": {
            "needs_background": "light"
          }
        }
      ]
    },
    {
      "cell_type": "code",
      "metadata": {
        "colab": {
          "base_uri": "https://localhost:8080/"
        },
        "id": "5TvmH7RgWcgf",
        "outputId": "7b06d0ab-53ee-4bdf-d50f-d74496569a65"
      },
      "source": [
        "## Model Evaluation\n",
        "test_loss, test_acc = model.evaluate(x_test, y_test)\n",
        "print('Test accuracy:', test_acc)"
      ],
      "execution_count": 38,
      "outputs": [
        {
          "output_type": "stream",
          "name": "stdout",
          "text": [
            "30/30 [==============================] - 3s 87ms/step - loss: 0.4436 - accuracy: 0.8662\n",
            "Test accuracy: 0.8661670088768005\n"
          ]
        }
      ]
    },
    {
      "cell_type": "code",
      "metadata": {
        "id": "hTyNM5AvWd1E"
      },
      "source": [
        "## Save Model\n",
        "model.save('Data/model_CNN-BiLSTM_sentiment.h5')"
      ],
      "execution_count": 39,
      "outputs": []
    },
    {
      "cell_type": "markdown",
      "metadata": {
        "id": "I3oI9nRiskIz"
      },
      "source": [
        "# **Classify new data**"
      ]
    },
    {
      "cell_type": "markdown",
      "source": [
        "We utilize the model to classify new data after we've built it. The results reveal that the model does a good job of classifying sentiment classes on new data."
      ],
      "metadata": {
        "id": "iI27HO8OWw-f"
      }
    },
    {
      "cell_type": "code",
      "metadata": {
        "colab": {
          "base_uri": "https://localhost:8080/",
          "height": 424
        },
        "id": "Aaj220yEsrnX",
        "outputId": "bcac16d2-4761-4389-9cdf-caf29ab698a1"
      },
      "source": [
        "new_data = pd.read_csv('https://raw.githubusercontent.com/Syamsyuriani/Data-Scrapping/main/Quipper-Data.csv')\n",
        "new_data"
      ],
      "execution_count": 40,
      "outputs": [
        {
          "output_type": "execute_result",
          "data": {
            "text/html": [
              "\n",
              "  <div id=\"df-927590d7-8a57-4063-b05b-f1701f23175d\">\n",
              "    <div class=\"colab-df-container\">\n",
              "      <div>\n",
              "<style scoped>\n",
              "    .dataframe tbody tr th:only-of-type {\n",
              "        vertical-align: middle;\n",
              "    }\n",
              "\n",
              "    .dataframe tbody tr th {\n",
              "        vertical-align: top;\n",
              "    }\n",
              "\n",
              "    .dataframe thead th {\n",
              "        text-align: right;\n",
              "    }\n",
              "</style>\n",
              "<table border=\"1\" class=\"dataframe\">\n",
              "  <thead>\n",
              "    <tr style=\"text-align: right;\">\n",
              "      <th></th>\n",
              "      <th>review</th>\n",
              "    </tr>\n",
              "  </thead>\n",
              "  <tbody>\n",
              "    <tr>\n",
              "      <th>0</th>\n",
              "      <td>kalau bisa di perbarui lagi</td>\n",
              "    </tr>\n",
              "    <tr>\n",
              "      <th>1</th>\n",
              "      <td>KEREN!!!</td>\n",
              "    </tr>\n",
              "    <tr>\n",
              "      <th>2</th>\n",
              "      <td>Kalo yang udah daftar terus di login pake facebook gampang,,, tapi kok quipper sekarang makin jelek</td>\n",
              "    </tr>\n",
              "    <tr>\n",
              "      <th>3</th>\n",
              "      <td>Kode kelas tidak di temukan gimana nh min??? Dan untuk smk di tambah dong!!!!</td>\n",
              "    </tr>\n",
              "    <tr>\n",
              "      <th>4</th>\n",
              "      <td>hai quipper video 😊 , saya ingin memberi masukan, lebih baik video yang sudah di unduh dan di si...</td>\n",
              "    </tr>\n",
              "    <tr>\n",
              "      <th>...</th>\n",
              "      <td>...</td>\n",
              "    </tr>\n",
              "    <tr>\n",
              "      <th>93</th>\n",
              "      <td>Cacat quiper vidio gembel</td>\n",
              "    </tr>\n",
              "    <tr>\n",
              "      <th>94</th>\n",
              "      <td>Gak bisa buat SD ya? Hmmm...</td>\n",
              "    </tr>\n",
              "    <tr>\n",
              "      <th>95</th>\n",
              "      <td>Bikin belajar lebih mudah</td>\n",
              "    </tr>\n",
              "    <tr>\n",
              "      <th>96</th>\n",
              "      <td>Jawaban bener kok disalahin</td>\n",
              "    </tr>\n",
              "    <tr>\n",
              "      <th>97</th>\n",
              "      <td>Kak kok mahal sih... tolong murah in yyyyy.... plissss</td>\n",
              "    </tr>\n",
              "  </tbody>\n",
              "</table>\n",
              "<p>98 rows × 1 columns</p>\n",
              "</div>\n",
              "      <button class=\"colab-df-convert\" onclick=\"convertToInteractive('df-927590d7-8a57-4063-b05b-f1701f23175d')\"\n",
              "              title=\"Convert this dataframe to an interactive table.\"\n",
              "              style=\"display:none;\">\n",
              "        \n",
              "  <svg xmlns=\"http://www.w3.org/2000/svg\" height=\"24px\"viewBox=\"0 0 24 24\"\n",
              "       width=\"24px\">\n",
              "    <path d=\"M0 0h24v24H0V0z\" fill=\"none\"/>\n",
              "    <path d=\"M18.56 5.44l.94 2.06.94-2.06 2.06-.94-2.06-.94-.94-2.06-.94 2.06-2.06.94zm-11 1L8.5 8.5l.94-2.06 2.06-.94-2.06-.94L8.5 2.5l-.94 2.06-2.06.94zm10 10l.94 2.06.94-2.06 2.06-.94-2.06-.94-.94-2.06-.94 2.06-2.06.94z\"/><path d=\"M17.41 7.96l-1.37-1.37c-.4-.4-.92-.59-1.43-.59-.52 0-1.04.2-1.43.59L10.3 9.45l-7.72 7.72c-.78.78-.78 2.05 0 2.83L4 21.41c.39.39.9.59 1.41.59.51 0 1.02-.2 1.41-.59l7.78-7.78 2.81-2.81c.8-.78.8-2.07 0-2.86zM5.41 20L4 18.59l7.72-7.72 1.47 1.35L5.41 20z\"/>\n",
              "  </svg>\n",
              "      </button>\n",
              "      \n",
              "  <style>\n",
              "    .colab-df-container {\n",
              "      display:flex;\n",
              "      flex-wrap:wrap;\n",
              "      gap: 12px;\n",
              "    }\n",
              "\n",
              "    .colab-df-convert {\n",
              "      background-color: #E8F0FE;\n",
              "      border: none;\n",
              "      border-radius: 50%;\n",
              "      cursor: pointer;\n",
              "      display: none;\n",
              "      fill: #1967D2;\n",
              "      height: 32px;\n",
              "      padding: 0 0 0 0;\n",
              "      width: 32px;\n",
              "    }\n",
              "\n",
              "    .colab-df-convert:hover {\n",
              "      background-color: #E2EBFA;\n",
              "      box-shadow: 0px 1px 2px rgba(60, 64, 67, 0.3), 0px 1px 3px 1px rgba(60, 64, 67, 0.15);\n",
              "      fill: #174EA6;\n",
              "    }\n",
              "\n",
              "    [theme=dark] .colab-df-convert {\n",
              "      background-color: #3B4455;\n",
              "      fill: #D2E3FC;\n",
              "    }\n",
              "\n",
              "    [theme=dark] .colab-df-convert:hover {\n",
              "      background-color: #434B5C;\n",
              "      box-shadow: 0px 1px 3px 1px rgba(0, 0, 0, 0.15);\n",
              "      filter: drop-shadow(0px 1px 2px rgba(0, 0, 0, 0.3));\n",
              "      fill: #FFFFFF;\n",
              "    }\n",
              "  </style>\n",
              "\n",
              "      <script>\n",
              "        const buttonEl =\n",
              "          document.querySelector('#df-927590d7-8a57-4063-b05b-f1701f23175d button.colab-df-convert');\n",
              "        buttonEl.style.display =\n",
              "          google.colab.kernel.accessAllowed ? 'block' : 'none';\n",
              "\n",
              "        async function convertToInteractive(key) {\n",
              "          const element = document.querySelector('#df-927590d7-8a57-4063-b05b-f1701f23175d');\n",
              "          const dataTable =\n",
              "            await google.colab.kernel.invokeFunction('convertToInteractive',\n",
              "                                                     [key], {});\n",
              "          if (!dataTable) return;\n",
              "\n",
              "          const docLinkHtml = 'Like what you see? Visit the ' +\n",
              "            '<a target=\"_blank\" href=https://colab.research.google.com/notebooks/data_table.ipynb>data table notebook</a>'\n",
              "            + ' to learn more about interactive tables.';\n",
              "          element.innerHTML = '';\n",
              "          dataTable['output_type'] = 'display_data';\n",
              "          await google.colab.output.renderOutput(dataTable, element);\n",
              "          const docLink = document.createElement('div');\n",
              "          docLink.innerHTML = docLinkHtml;\n",
              "          element.appendChild(docLink);\n",
              "        }\n",
              "      </script>\n",
              "    </div>\n",
              "  </div>\n",
              "  "
            ],
            "text/plain": [
              "                                                                                                 review\n",
              "0                                                                           kalau bisa di perbarui lagi\n",
              "1                                                                                              KEREN!!!\n",
              "2   Kalo yang udah daftar terus di login pake facebook gampang,,, tapi kok quipper sekarang makin jelek\n",
              "3                         Kode kelas tidak di temukan gimana nh min??? Dan untuk smk di tambah dong!!!!\n",
              "4   hai quipper video 😊 , saya ingin memberi masukan, lebih baik video yang sudah di unduh dan di si...\n",
              "..                                                                                                  ...\n",
              "93                                                                            Cacat quiper vidio gembel\n",
              "94                                                                         Gak bisa buat SD ya? Hmmm...\n",
              "95                                                                            Bikin belajar lebih mudah\n",
              "96                                                                          Jawaban bener kok disalahin\n",
              "97                                               Kak kok mahal sih... tolong murah in yyyyy.... plissss\n",
              "\n",
              "[98 rows x 1 columns]"
            ]
          },
          "metadata": {},
          "execution_count": 40
        }
      ]
    },
    {
      "cell_type": "code",
      "metadata": {
        "id": "aeE0lvcwtAUq"
      },
      "source": [
        "# Load Model\n",
        "model = keras.models.load_model('Data/model_CNN-BiLSTM_sentiment.h5')"
      ],
      "execution_count": 41,
      "outputs": []
    },
    {
      "cell_type": "code",
      "metadata": {
        "id": "n6mtoBZUt0sO"
      },
      "source": [
        "# Data Tokenization and pad sequencing\n",
        "tokenizer = keras.preprocessing.text.Tokenizer()\n",
        "tokenizer.fit_on_texts(new_data['review'])\n",
        "seq = tokenizer.texts_to_sequences(new_data['review'])\n",
        "x_pred = keras.preprocessing.sequence.pad_sequences(seq, maxlen=80)\n",
        "y_pred = model.predict(x_pred)\n",
        "\n",
        "treshold = 0.5\n",
        "for i in range(y_pred.shape[0]):\n",
        "  if y_pred[i] > treshold:\n",
        "    y_pred[i] = 1\n",
        "  else:\n",
        "    y_pred[i] = -1\n",
        "\n",
        "new_data['label'] = y_pred"
      ],
      "execution_count": 42,
      "outputs": []
    },
    {
      "cell_type": "code",
      "metadata": {
        "colab": {
          "base_uri": "https://localhost:8080/",
          "height": 424
        },
        "id": "q9sIjgUXyDHF",
        "outputId": "161340ae-abd8-4f63-b076-67fb85d1e7a9"
      },
      "source": [
        "pd.set_option(\"max_colwidth\", 100)\n",
        "new_data"
      ],
      "execution_count": 43,
      "outputs": [
        {
          "output_type": "execute_result",
          "data": {
            "text/html": [
              "\n",
              "  <div id=\"df-711212b8-efb7-4afc-af53-ea15614a2c6a\">\n",
              "    <div class=\"colab-df-container\">\n",
              "      <div>\n",
              "<style scoped>\n",
              "    .dataframe tbody tr th:only-of-type {\n",
              "        vertical-align: middle;\n",
              "    }\n",
              "\n",
              "    .dataframe tbody tr th {\n",
              "        vertical-align: top;\n",
              "    }\n",
              "\n",
              "    .dataframe thead th {\n",
              "        text-align: right;\n",
              "    }\n",
              "</style>\n",
              "<table border=\"1\" class=\"dataframe\">\n",
              "  <thead>\n",
              "    <tr style=\"text-align: right;\">\n",
              "      <th></th>\n",
              "      <th>review</th>\n",
              "      <th>label</th>\n",
              "    </tr>\n",
              "  </thead>\n",
              "  <tbody>\n",
              "    <tr>\n",
              "      <th>0</th>\n",
              "      <td>kalau bisa di perbarui lagi</td>\n",
              "      <td>1.0</td>\n",
              "    </tr>\n",
              "    <tr>\n",
              "      <th>1</th>\n",
              "      <td>KEREN!!!</td>\n",
              "      <td>1.0</td>\n",
              "    </tr>\n",
              "    <tr>\n",
              "      <th>2</th>\n",
              "      <td>Kalo yang udah daftar terus di login pake facebook gampang,,, tapi kok quipper sekarang makin jelek</td>\n",
              "      <td>-1.0</td>\n",
              "    </tr>\n",
              "    <tr>\n",
              "      <th>3</th>\n",
              "      <td>Kode kelas tidak di temukan gimana nh min??? Dan untuk smk di tambah dong!!!!</td>\n",
              "      <td>-1.0</td>\n",
              "    </tr>\n",
              "    <tr>\n",
              "      <th>4</th>\n",
              "      <td>hai quipper video 😊 , saya ingin memberi masukan, lebih baik video yang sudah di unduh dan di si...</td>\n",
              "      <td>-1.0</td>\n",
              "    </tr>\n",
              "    <tr>\n",
              "      <th>...</th>\n",
              "      <td>...</td>\n",
              "      <td>...</td>\n",
              "    </tr>\n",
              "    <tr>\n",
              "      <th>93</th>\n",
              "      <td>Cacat quiper vidio gembel</td>\n",
              "      <td>-1.0</td>\n",
              "    </tr>\n",
              "    <tr>\n",
              "      <th>94</th>\n",
              "      <td>Gak bisa buat SD ya? Hmmm...</td>\n",
              "      <td>-1.0</td>\n",
              "    </tr>\n",
              "    <tr>\n",
              "      <th>95</th>\n",
              "      <td>Bikin belajar lebih mudah</td>\n",
              "      <td>-1.0</td>\n",
              "    </tr>\n",
              "    <tr>\n",
              "      <th>96</th>\n",
              "      <td>Jawaban bener kok disalahin</td>\n",
              "      <td>-1.0</td>\n",
              "    </tr>\n",
              "    <tr>\n",
              "      <th>97</th>\n",
              "      <td>Kak kok mahal sih... tolong murah in yyyyy.... plissss</td>\n",
              "      <td>1.0</td>\n",
              "    </tr>\n",
              "  </tbody>\n",
              "</table>\n",
              "<p>98 rows × 2 columns</p>\n",
              "</div>\n",
              "      <button class=\"colab-df-convert\" onclick=\"convertToInteractive('df-711212b8-efb7-4afc-af53-ea15614a2c6a')\"\n",
              "              title=\"Convert this dataframe to an interactive table.\"\n",
              "              style=\"display:none;\">\n",
              "        \n",
              "  <svg xmlns=\"http://www.w3.org/2000/svg\" height=\"24px\"viewBox=\"0 0 24 24\"\n",
              "       width=\"24px\">\n",
              "    <path d=\"M0 0h24v24H0V0z\" fill=\"none\"/>\n",
              "    <path d=\"M18.56 5.44l.94 2.06.94-2.06 2.06-.94-2.06-.94-.94-2.06-.94 2.06-2.06.94zm-11 1L8.5 8.5l.94-2.06 2.06-.94-2.06-.94L8.5 2.5l-.94 2.06-2.06.94zm10 10l.94 2.06.94-2.06 2.06-.94-2.06-.94-.94-2.06-.94 2.06-2.06.94z\"/><path d=\"M17.41 7.96l-1.37-1.37c-.4-.4-.92-.59-1.43-.59-.52 0-1.04.2-1.43.59L10.3 9.45l-7.72 7.72c-.78.78-.78 2.05 0 2.83L4 21.41c.39.39.9.59 1.41.59.51 0 1.02-.2 1.41-.59l7.78-7.78 2.81-2.81c.8-.78.8-2.07 0-2.86zM5.41 20L4 18.59l7.72-7.72 1.47 1.35L5.41 20z\"/>\n",
              "  </svg>\n",
              "      </button>\n",
              "      \n",
              "  <style>\n",
              "    .colab-df-container {\n",
              "      display:flex;\n",
              "      flex-wrap:wrap;\n",
              "      gap: 12px;\n",
              "    }\n",
              "\n",
              "    .colab-df-convert {\n",
              "      background-color: #E8F0FE;\n",
              "      border: none;\n",
              "      border-radius: 50%;\n",
              "      cursor: pointer;\n",
              "      display: none;\n",
              "      fill: #1967D2;\n",
              "      height: 32px;\n",
              "      padding: 0 0 0 0;\n",
              "      width: 32px;\n",
              "    }\n",
              "\n",
              "    .colab-df-convert:hover {\n",
              "      background-color: #E2EBFA;\n",
              "      box-shadow: 0px 1px 2px rgba(60, 64, 67, 0.3), 0px 1px 3px 1px rgba(60, 64, 67, 0.15);\n",
              "      fill: #174EA6;\n",
              "    }\n",
              "\n",
              "    [theme=dark] .colab-df-convert {\n",
              "      background-color: #3B4455;\n",
              "      fill: #D2E3FC;\n",
              "    }\n",
              "\n",
              "    [theme=dark] .colab-df-convert:hover {\n",
              "      background-color: #434B5C;\n",
              "      box-shadow: 0px 1px 3px 1px rgba(0, 0, 0, 0.15);\n",
              "      filter: drop-shadow(0px 1px 2px rgba(0, 0, 0, 0.3));\n",
              "      fill: #FFFFFF;\n",
              "    }\n",
              "  </style>\n",
              "\n",
              "      <script>\n",
              "        const buttonEl =\n",
              "          document.querySelector('#df-711212b8-efb7-4afc-af53-ea15614a2c6a button.colab-df-convert');\n",
              "        buttonEl.style.display =\n",
              "          google.colab.kernel.accessAllowed ? 'block' : 'none';\n",
              "\n",
              "        async function convertToInteractive(key) {\n",
              "          const element = document.querySelector('#df-711212b8-efb7-4afc-af53-ea15614a2c6a');\n",
              "          const dataTable =\n",
              "            await google.colab.kernel.invokeFunction('convertToInteractive',\n",
              "                                                     [key], {});\n",
              "          if (!dataTable) return;\n",
              "\n",
              "          const docLinkHtml = 'Like what you see? Visit the ' +\n",
              "            '<a target=\"_blank\" href=https://colab.research.google.com/notebooks/data_table.ipynb>data table notebook</a>'\n",
              "            + ' to learn more about interactive tables.';\n",
              "          element.innerHTML = '';\n",
              "          dataTable['output_type'] = 'display_data';\n",
              "          await google.colab.output.renderOutput(dataTable, element);\n",
              "          const docLink = document.createElement('div');\n",
              "          docLink.innerHTML = docLinkHtml;\n",
              "          element.appendChild(docLink);\n",
              "        }\n",
              "      </script>\n",
              "    </div>\n",
              "  </div>\n",
              "  "
            ],
            "text/plain": [
              "                                                                                                 review  label\n",
              "0                                                                           kalau bisa di perbarui lagi    1.0\n",
              "1                                                                                              KEREN!!!    1.0\n",
              "2   Kalo yang udah daftar terus di login pake facebook gampang,,, tapi kok quipper sekarang makin jelek   -1.0\n",
              "3                         Kode kelas tidak di temukan gimana nh min??? Dan untuk smk di tambah dong!!!!   -1.0\n",
              "4   hai quipper video 😊 , saya ingin memberi masukan, lebih baik video yang sudah di unduh dan di si...   -1.0\n",
              "..                                                                                                  ...    ...\n",
              "93                                                                            Cacat quiper vidio gembel   -1.0\n",
              "94                                                                         Gak bisa buat SD ya? Hmmm...   -1.0\n",
              "95                                                                            Bikin belajar lebih mudah   -1.0\n",
              "96                                                                          Jawaban bener kok disalahin   -1.0\n",
              "97                                               Kak kok mahal sih... tolong murah in yyyyy.... plissss    1.0\n",
              "\n",
              "[98 rows x 2 columns]"
            ]
          },
          "metadata": {},
          "execution_count": 43
        }
      ]
    }
  ]
}